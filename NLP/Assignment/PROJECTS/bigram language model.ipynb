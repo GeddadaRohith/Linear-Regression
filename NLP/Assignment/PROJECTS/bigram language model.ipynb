{
 "cells": [
  {
   "cell_type": "markdown",
   "id": "b3511010-7bf6-42ba-bb4e-47f574fd1a7b",
   "metadata": {},
   "source": [
    "# LIB"
   ]
  },
  {
   "cell_type": "code",
   "execution_count": 1,
   "id": "72827445-6bf6-4e7c-8d9c-dbfc8730a718",
   "metadata": {},
   "outputs": [],
   "source": [
    "import nltk\n",
    "from nltk.util import ngrams\n",
    "from collections import defaultdict"
   ]
  },
  {
   "cell_type": "markdown",
   "id": "3be088ad-eb78-42a5-9c27-1212604b5400",
   "metadata": {},
   "source": [
    "# Simple text"
   ]
  },
  {
   "cell_type": "code",
   "execution_count": 3,
   "id": "1f10bad9-d5b9-41de-ba63-11fbf2a242aa",
   "metadata": {},
   "outputs": [],
   "source": [
    "text = \"This is a sample text corpus for N-gram language model implementation evaluate text corpus\""
   ]
  },
  {
   "cell_type": "markdown",
   "id": "979555d1-9cb1-42c4-8586-56d801941fd3",
   "metadata": {},
   "source": [
    "# Tokenize the text"
   ]
  },
  {
   "cell_type": "code",
   "execution_count": 6,
   "id": "5ef06877-239e-4782-b344-841e7fba1985",
   "metadata": {},
   "outputs": [],
   "source": [
    "tokens = nltk.word_tokenize(text)"
   ]
  },
  {
   "cell_type": "markdown",
   "id": "fef920ac-5689-493c-aa09-535dd82e781e",
   "metadata": {},
   "source": [
    "# Create a bigram language model"
   ]
  },
  {
   "cell_type": "code",
   "execution_count": 8,
   "id": "8dfad8a2-e6a9-43e3-9ed5-48e0c5596a03",
   "metadata": {},
   "outputs": [],
   "source": [
    "n = 2\n",
    "ngram2 = ngrams(tokens , n ,pad_left=True , pad_right=True)\n",
    "bigram_seq = list(ngram2)\n",
    "bigram_seq = bigram_seq[1:-1]\n",
    "mle_bigram_dist = nltk.FreqDist((x.lower(), y.lower()) for (x,y) in bigram_seq)\n",
    "total_ngram = len(mle_bigram_dist)\n",
    "ngram_probs = [(mle_bigram_dist[item]/total_ngram) for item in mle_bigram_dist]"
   ]
  },
  {
   "cell_type": "code",
   "execution_count": 9,
   "id": "32f1cd59-338a-45b5-ab91-847444ebffc1",
   "metadata": {},
   "outputs": [
    {
     "name": "stdout",
     "output_type": "stream",
     "text": [
      "('text', 'corpus') --> 0.16666666666666666\n",
      "('this', 'is') --> 0.08333333333333333\n",
      "('is', 'a') --> 0.08333333333333333\n",
      "('a', 'sample') --> 0.08333333333333333\n",
      "('sample', 'text') --> 0.08333333333333333\n",
      "('corpus', 'for') --> 0.08333333333333333\n",
      "('for', 'n-gram') --> 0.08333333333333333\n",
      "('n-gram', 'language') --> 0.08333333333333333\n",
      "('language', 'model') --> 0.08333333333333333\n",
      "('model', 'implementation') --> 0.08333333333333333\n",
      "('implementation', 'evaluate') --> 0.08333333333333333\n",
      "('evaluate', 'text') --> 0.08333333333333333\n"
     ]
    }
   ],
   "source": [
    "for item,val in zip(mle_bigram_dist , ngram_probs):\n",
    "    print(item,\"-->\",val)"
   ]
  },
  {
   "cell_type": "code",
   "execution_count": 21,
   "id": "40fd2a10-d7be-4e9e-9eda-60bcff9af761",
   "metadata": {},
   "outputs": [
    {
     "data": {
      "text/plain": [
       "[('This', 'is'),\n",
       " ('is', 'a'),\n",
       " ('a', 'sample'),\n",
       " ('sample', 'text'),\n",
       " ('text', 'corpus'),\n",
       " ('corpus', 'for'),\n",
       " ('for', 'N-gram'),\n",
       " ('N-gram', 'language'),\n",
       " ('language', 'model'),\n",
       " ('model', 'implementation'),\n",
       " ('implementation', 'evaluate'),\n",
       " ('evaluate', 'text'),\n",
       " ('text', 'corpus')]"
      ]
     },
     "execution_count": 21,
     "metadata": {},
     "output_type": "execute_result"
    }
   ],
   "source": [
    "bigram_seq"
   ]
  },
  {
   "cell_type": "code",
   "execution_count": 23,
   "id": "813eb3f9-3726-40c6-a092-1c2e757db1c3",
   "metadata": {},
   "outputs": [
    {
     "data": {
      "text/plain": [
       "12"
      ]
     },
     "execution_count": 23,
     "metadata": {},
     "output_type": "execute_result"
    }
   ],
   "source": [
    "total_ngram"
   ]
  },
  {
   "cell_type": "code",
   "execution_count": 24,
   "id": "31e1d9f9-60ee-4daa-bd4d-070c3d096190",
   "metadata": {},
   "outputs": [
    {
     "data": {
      "text/plain": [
       "[0.16666666666666666,\n",
       " 0.08333333333333333,\n",
       " 0.08333333333333333,\n",
       " 0.08333333333333333,\n",
       " 0.08333333333333333,\n",
       " 0.08333333333333333,\n",
       " 0.08333333333333333,\n",
       " 0.08333333333333333,\n",
       " 0.08333333333333333,\n",
       " 0.08333333333333333,\n",
       " 0.08333333333333333,\n",
       " 0.08333333333333333]"
      ]
     },
     "execution_count": 24,
     "metadata": {},
     "output_type": "execute_result"
    }
   ],
   "source": [
    "ngram_probs"
   ]
  },
  {
   "cell_type": "code",
   "execution_count": null,
   "id": "20a9145c-d0b3-48a4-8c24-b67b46ec8520",
   "metadata": {},
   "outputs": [],
   "source": []
  }
 ],
 "metadata": {
  "kernelspec": {
   "display_name": "Python 3 (ipykernel)",
   "language": "python",
   "name": "python3"
  },
  "language_info": {
   "codemirror_mode": {
    "name": "ipython",
    "version": 3
   },
   "file_extension": ".py",
   "mimetype": "text/x-python",
   "name": "python",
   "nbconvert_exporter": "python",
   "pygments_lexer": "ipython3",
   "version": "3.12.7"
  }
 },
 "nbformat": 4,
 "nbformat_minor": 5
}
