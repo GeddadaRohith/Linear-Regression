{
 "cells": [
  {
   "cell_type": "markdown",
   "id": "f526e07a-f7aa-426f-9ffc-108da79c4370",
   "metadata": {},
   "source": [
    "# Derivational for words"
   ]
  },
  {
   "cell_type": "code",
   "execution_count": 1,
   "id": "621566d0-3e02-494e-a9ce-da653c582af0",
   "metadata": {},
   "outputs": [],
   "source": [
    "import nltk\n",
    "from nltk.stem import WordNetLemmatizer"
   ]
  },
  {
   "cell_type": "code",
   "execution_count": 2,
   "id": "02886535-59be-47c4-94b6-6a8d83a33ff0",
   "metadata": {},
   "outputs": [],
   "source": [
    "lemmatizer  = WordNetLemmatizer()"
   ]
  },
  {
   "cell_type": "code",
   "execution_count": 3,
   "id": "c36a2d09-ec72-4225-b14a-0acc8208ad2e",
   "metadata": {},
   "outputs": [],
   "source": [
    "words = [\"cared\",\"university\",\"fairly\",\"easily\",\"singing\",\"sings\",\"sung\",\"singer\",\"sportingly\",\"magnified\"]"
   ]
  },
  {
   "cell_type": "code",
   "execution_count": 4,
   "id": "c3bd3a42-c419-4ae0-a7a9-92c1684c80ce",
   "metadata": {},
   "outputs": [],
   "source": [
    "stem_words = []\n",
    "for w in words:\n",
    "    x = lemmatizer.lemmatize(w,pos=\"v\")\n",
    "    stem_words.append(x)"
   ]
  },
  {
   "cell_type": "code",
   "execution_count": 5,
   "id": "cd97a07a-a1a1-433b-a5b7-df6af8ebb821",
   "metadata": {},
   "outputs": [
    {
     "name": "stdout",
     "output_type": "stream",
     "text": [
      "cared----->care\n",
      "university----->university\n",
      "fairly----->fairly\n",
      "easily----->easily\n",
      "singing----->sing\n",
      "sings----->sing\n",
      "sung----->sing\n",
      "singer----->singer\n",
      "sportingly----->sportingly\n",
      "magnified----->magnify\n"
     ]
    }
   ],
   "source": [
    "for e1,e2 in zip(words,stem_words):\n",
    "    print(e1+\"----->\"+e2)"
   ]
  }
 ],
 "metadata": {
  "kernelspec": {
   "display_name": "Python 3 (ipykernel)",
   "language": "python",
   "name": "python3"
  },
  "language_info": {
   "codemirror_mode": {
    "name": "ipython",
    "version": 3
   },
   "file_extension": ".py",
   "mimetype": "text/x-python",
   "name": "python",
   "nbconvert_exporter": "python",
   "pygments_lexer": "ipython3",
   "version": "3.12.7"
  }
 },
 "nbformat": 4,
 "nbformat_minor": 5
}
