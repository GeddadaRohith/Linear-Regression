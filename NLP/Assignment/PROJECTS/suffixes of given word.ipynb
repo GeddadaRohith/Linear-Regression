{
 "cells": [
  {
   "cell_type": "markdown",
   "id": "3b83187a-12d4-473b-8675-88674b3bbe66",
   "metadata": {},
   "source": [
    "# SUFFIXES OF GIVEN WORD"
   ]
  },
  {
   "cell_type": "code",
   "execution_count": 1,
   "id": "4644d607-2ac0-46ee-aed1-e0bc930308cb",
   "metadata": {},
   "outputs": [],
   "source": [
    "import nltk\n",
    "from nltk.stem import PorterStemmer"
   ]
  },
  {
   "cell_type": "code",
   "execution_count": 2,
   "id": "d98eb6f4-3f51-4195-be1b-d5d495903558",
   "metadata": {},
   "outputs": [],
   "source": [
    "word = \"running\""
   ]
  },
  {
   "cell_type": "code",
   "execution_count": 3,
   "id": "324ae9dd-1d00-44cc-a972-4f091b2b2dd7",
   "metadata": {},
   "outputs": [],
   "source": [
    "stemmer = PorterStemmer()"
   ]
  },
  {
   "cell_type": "code",
   "execution_count": 4,
   "id": "141c4ff9-1430-48a9-984c-ed5382ed21b4",
   "metadata": {},
   "outputs": [],
   "source": [
    "stemmed_word = stemmer.stem(word)\n",
    "suffix = word[len(stemmed_word):]"
   ]
  },
  {
   "cell_type": "code",
   "execution_count": 5,
   "id": "eb2387b5-c4fe-47b3-b21b-014c5c8ec809",
   "metadata": {},
   "outputs": [
    {
     "name": "stdout",
     "output_type": "stream",
     "text": [
      "Original word: running\n",
      "Stemmed word: run\n",
      "Suffix: ning\n"
     ]
    }
   ],
   "source": [
    "print(f\"Original word: {word}\")\n",
    "print(f\"Stemmed word: {stemmed_word}\")\n",
    "print(f\"Suffix: {suffix}\")"
   ]
  }
 ],
 "metadata": {
  "kernelspec": {
   "display_name": "Python 3 (ipykernel)",
   "language": "python",
   "name": "python3"
  },
  "language_info": {
   "codemirror_mode": {
    "name": "ipython",
    "version": 3
   },
   "file_extension": ".py",
   "mimetype": "text/x-python",
   "name": "python",
   "nbconvert_exporter": "python",
   "pygments_lexer": "ipython3",
   "version": "3.12.7"
  }
 },
 "nbformat": 4,
 "nbformat_minor": 5
}
