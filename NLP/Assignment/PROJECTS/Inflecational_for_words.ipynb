{
 "cells": [
  {
   "cell_type": "markdown",
   "id": "d7d9b56b-f3c2-42d7-b576-20829bff3bb4",
   "metadata": {},
   "source": [
    "# Inflecational for words"
   ]
  },
  {
   "cell_type": "code",
   "execution_count": 1,
   "id": "ca913f8d-557b-44a7-87fb-68433958ff59",
   "metadata": {},
   "outputs": [],
   "source": [
    "import nltk\n",
    "from nltk.stem.lancaster import LancasterStemmer"
   ]
  },
  {
   "cell_type": "code",
   "execution_count": 2,
   "id": "e77e44fa-2922-4d92-b98b-d6fe3aec202c",
   "metadata": {},
   "outputs": [],
   "source": [
    "words = [\"cared\",\"university\",\"fairly\",\"easily\",\"singing\",\"sing\",\"sung\",\"singer\",\"sportingly\",\"magnified\"]"
   ]
  },
  {
   "cell_type": "code",
   "execution_count": 3,
   "id": "d6a56de1-657e-4fa7-8a5e-202a2be9ff48",
   "metadata": {},
   "outputs": [],
   "source": [
    "st = LancasterStemmer()"
   ]
  },
  {
   "cell_type": "code",
   "execution_count": 4,
   "id": "e5e46e5f-deff-418d-b7c4-523db6a2f901",
   "metadata": {},
   "outputs": [],
   "source": [
    "stem_words = []\n",
    "for w in words:\n",
    "    x=st.stem(w)\n",
    "    stem_words.append(x)"
   ]
  },
  {
   "cell_type": "code",
   "execution_count": 5,
   "id": "39c5568a-841f-4f3a-b065-cdeed1bf675b",
   "metadata": {},
   "outputs": [
    {
     "name": "stdout",
     "output_type": "stream",
     "text": [
      "cared------>car\n",
      "university------>univers\n",
      "fairly------>fair\n",
      "easily------>easy\n",
      "singing------>sing\n",
      "sing------>sing\n",
      "sung------>sung\n",
      "singer------>sing\n",
      "sportingly------>sport\n",
      "magnified------>magn\n"
     ]
    }
   ],
   "source": [
    "for e1,e2 in zip(words,stem_words):\n",
    "    print(e1+\"------>\"+e2)"
   ]
  }
 ],
 "metadata": {
  "kernelspec": {
   "display_name": "Python 3 (ipykernel)",
   "language": "python",
   "name": "python3"
  },
  "language_info": {
   "codemirror_mode": {
    "name": "ipython",
    "version": 3
   },
   "file_extension": ".py",
   "mimetype": "text/x-python",
   "name": "python",
   "nbconvert_exporter": "python",
   "pygments_lexer": "ipython3",
   "version": "3.12.7"
  }
 },
 "nbformat": 4,
 "nbformat_minor": 5
}
