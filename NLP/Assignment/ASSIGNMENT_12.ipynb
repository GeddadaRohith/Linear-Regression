{
 "cells": [
  {
   "cell_type": "code",
   "execution_count": null,
   "id": "0e8f1ea6-2113-4a50-a29a-51b02fb82bf4",
   "metadata": {},
   "outputs": [],
   "source": []
  }
 ],
 "metadata": {
  "kernelspec": {
   "display_name": "",
   "name": ""
  },
  "language_info": {
   "name": ""
  }
 },
 "nbformat": 4,
 "nbformat_minor": 5
}
