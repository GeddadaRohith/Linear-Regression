{
 "cells": [
  {
   "cell_type": "raw",
   "id": "c4bf2427-db94-46d2-a894-0814baaa5e6a",
   "metadata": {},
   "source": [
    "Write a Python program to perform sentiment analysis on a given text using the TextBlob library. Display whether the sentiment is positive, negative, or neutral.\n"
   ]
  },
  {
   "cell_type": "code",
   "execution_count": 1,
   "id": "28a71ebd-a4bc-4adc-b544-8e3f9f9f6907",
   "metadata": {},
   "outputs": [],
   "source": [
    "from textblob import TextBlob"
   ]
  },
  {
   "cell_type": "code",
   "execution_count": 2,
   "id": "d75b56f5-9714-48d5-8fa7-37d1d584920d",
   "metadata": {},
   "outputs": [],
   "source": [
    "def analyze_sentiment(text):\n",
    "    blob = TextBlob(text)\n",
    "    polarity = blob.sentiment.polarity\n",
    "    \n",
    "    if polarity > 0:\n",
    "        sentiment = \"Positive\"\n",
    "    elif polarity < 0:\n",
    "        sentiment = \"Negative\"\n",
    "    else:\n",
    "        sentiment = \"Neutral\"\n",
    "    \n",
    "    print(f\"Text: {text}\")\n",
    "    print(f\"Sentiment Polarity: {polarity:.2f}\")\n",
    "    print(f\"Sentiment: {sentiment}\")\n",
    "\n"
   ]
  },
  {
   "cell_type": "code",
   "execution_count": 3,
   "id": "64420a18-3410-4e9a-8a4e-426d38721d46",
   "metadata": {},
   "outputs": [
    {
     "name": "stdout",
     "output_type": "stream",
     "text": [
      "Text: I absolutely love this product! It's amazing and works perfectly.\n",
      "Sentiment Polarity: 0.74\n",
      "Sentiment: Positive\n"
     ]
    }
   ],
   "source": [
    "text = \"I absolutely love this product! It's amazing and works perfectly.\"\n",
    "analyze_sentiment(text)"
   ]
  },
  {
   "cell_type": "code",
   "execution_count": null,
   "id": "9f90fcfb-5715-46cc-bf97-431cb0547a72",
   "metadata": {},
   "outputs": [],
   "source": []
  }
 ],
 "metadata": {
  "kernelspec": {
   "display_name": "Python 3 (ipykernel)",
   "language": "python",
   "name": "python3"
  },
  "language_info": {
   "codemirror_mode": {
    "name": "ipython",
    "version": 3
   },
   "file_extension": ".py",
   "mimetype": "text/x-python",
   "name": "python",
   "nbconvert_exporter": "python",
   "pygments_lexer": "ipython3",
   "version": "3.12.7"
  }
 },
 "nbformat": 4,
 "nbformat_minor": 5
}
