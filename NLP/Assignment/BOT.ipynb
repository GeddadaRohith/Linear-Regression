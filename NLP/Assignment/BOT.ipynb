{
 "cells": [
  {
   "cell_type": "markdown",
   "id": "9044f69e-b6a3-4653-b8f5-250ed51a2bdd",
   "metadata": {},
   "source": [
    "# LIB"
   ]
  },
  {
   "cell_type": "code",
   "execution_count": 4,
   "id": "16a48614-96a8-4d45-9f7c-73ecc5e86be4",
   "metadata": {},
   "outputs": [],
   "source": [
    "import nltk\n",
    "import re\n",
    "import pyttsx3\n",
    "from nltk.corpus import stopwords"
   ]
  },
  {
   "cell_type": "markdown",
   "id": "b093072e-74c5-43ac-8dcd-44de3877f0b9",
   "metadata": {},
   "source": [
    "# data"
   ]
  },
  {
   "cell_type": "code",
   "execution_count": 19,
   "id": "b9cc76f6-7fb0-4347-9d12-649247c5ff06",
   "metadata": {},
   "outputs": [],
   "source": [
    "data = [\n",
    "    ['sub', \"subtract these numbers \"],\n",
    "    ['add', \"add the numbers\"],\n",
    "    ['add', \"sum of the numbers\"],\n",
    "    ['add', \"addition of numbers\"],\n",
    "    ['sub', \"minus numbers\"],\n",
    "    ['sub', \" difference the numbers\"],\n",
    "]"
   ]
  },
  {
   "cell_type": "markdown",
   "id": "1d7b08fe-6f2f-4183-9375-f1835dc7fc5d",
   "metadata": {},
   "source": [
    "# LABLES"
   ]
  },
  {
   "cell_type": "code",
   "execution_count": 20,
   "id": "a546ff63-1423-4b17-b8a1-9767961fc51a",
   "metadata": {},
   "outputs": [],
   "source": [
    "lables = [row[0]  for row in data]\n",
    "messages = [row[1]  for row in data]"
   ]
  },
  {
   "cell_type": "markdown",
   "id": "d7666009-f3fe-442a-939c-deeea18ab637",
   "metadata": {},
   "source": [
    "# Preprosessing the daata"
   ]
  },
  {
   "cell_type": "code",
   "execution_count": 21,
   "id": "cec92d2e-e6fa-4a05-878e-81e1a9b0ecc0",
   "metadata": {},
   "outputs": [],
   "source": [
    "def preporcess_text(text):\n",
    "    text = text.lower()\n",
    "    text = re.sub(r'[^a-z\\s]',' ',text)\n",
    "    words = text.split()\n",
    "    stop_words = set(stopwords.words('english'))\n",
    "    filtered_words = [word for word in words if word not in stop_words]\n",
    "    return ' '.join(filtered_words)"
   ]
  },
  {
   "cell_type": "code",
   "execution_count": 22,
   "id": "80ef40c6-b63d-487a-820b-b6710e357649",
   "metadata": {},
   "outputs": [
    {
     "data": {
      "text/plain": [
       "['subtract numbers',\n",
       " 'add numbers',\n",
       " 'sum numbers',\n",
       " 'addition numbers',\n",
       " 'minus numbers',\n",
       " 'difference numbers']"
      ]
     },
     "execution_count": 22,
     "metadata": {},
     "output_type": "execute_result"
    }
   ],
   "source": [
    "preprocesssed_messages = [preporcess_text(msg) for msg in messages]\n",
    "preprocesssed_messages"
   ]
  },
  {
   "cell_type": "code",
   "execution_count": null,
   "id": "c3791ce0-70d8-4779-bbef-b4ba1fd3e16a",
   "metadata": {},
   "outputs": [],
   "source": []
  },
  {
   "cell_type": "code",
   "execution_count": null,
   "id": "4a3de120-2a20-4c98-90ec-08181a4f3244",
   "metadata": {},
   "outputs": [],
   "source": []
  }
 ],
 "metadata": {
  "kernelspec": {
   "display_name": "Python 3 (ipykernel)",
   "language": "python",
   "name": "python3"
  },
  "language_info": {
   "codemirror_mode": {
    "name": "ipython",
    "version": 3
   },
   "file_extension": ".py",
   "mimetype": "text/x-python",
   "name": "python",
   "nbconvert_exporter": "python",
   "pygments_lexer": "ipython3",
   "version": "3.12.7"
  }
 },
 "nbformat": 4,
 "nbformat_minor": 5
}
