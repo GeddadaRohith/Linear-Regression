{
 "cells": [
  {
   "cell_type": "code",
   "execution_count": 14,
   "id": "8c68f899-436b-4d17-bc85-bab5a03ecf33",
   "metadata": {},
   "outputs": [
    {
     "data": {
      "text/plain": [
       "[2, 3, 15, 4, 5, 55]"
      ]
     },
     "execution_count": 14,
     "metadata": {},
     "output_type": "execute_result"
    }
   ],
   "source": [
    "list_1 = [2,3,4,5]\n",
    "middle_index = len(list_1)//2\n",
    "list_1.insert(middle_index,15)\n",
    "list_1.append(55)\n",
    "list_1"
   ]
  },
  {
   "cell_type": "code",
   "execution_count": 16,
   "id": "270bc2bd-4472-45d8-a7d6-bb85b55aa5a1",
   "metadata": {},
   "outputs": [
    {
     "data": {
      "text/plain": [
       "[2, 3, 66, 4, 5, 55]"
      ]
     },
     "execution_count": 16,
     "metadata": {},
     "output_type": "execute_result"
    }
   ],
   "source": [
    "list_1[2] = 66\n",
    "list_1\n"
   ]
  },
  {
   "cell_type": "code",
   "execution_count": 23,
   "id": "a2353d58-04c5-4293-a736-5e4f6f20f107",
   "metadata": {},
   "outputs": [
    {
     "data": {
      "text/plain": [
       "[3, 4, 55]"
      ]
     },
     "execution_count": 23,
     "metadata": {},
     "output_type": "execute_result"
    }
   ],
   "source": [
    "#list [start:stop:step]\n",
    "list_1[1::2]"
   ]
  },
  {
   "cell_type": "code",
   "execution_count": 25,
   "id": "d1909ea5-37a4-4b4d-b32e-63e199dc4896",
   "metadata": {},
   "outputs": [
    {
     "data": {
      "text/plain": [
       "[3, 66, 4]"
      ]
     },
     "execution_count": 25,
     "metadata": {},
     "output_type": "execute_result"
    }
   ],
   "source": [
    "list_1[-5:-2]"
   ]
  },
  {
   "cell_type": "code",
   "execution_count": 26,
   "id": "1ae49493-cccf-4e3f-af77-10b5a12ca351",
   "metadata": {},
   "outputs": [
    {
     "data": {
      "text/plain": [
       "[55, 5, 4, 66, 3, 2]"
      ]
     },
     "execution_count": 26,
     "metadata": {},
     "output_type": "execute_result"
    }
   ],
   "source": [
    "list_1[::-1]\n"
   ]
  },
  {
   "cell_type": "code",
   "execution_count": null,
   "id": "949d88f4-7cd0-4669-ab55-2828fbacb4bd",
   "metadata": {},
   "outputs": [],
   "source": []
  }
 ],
 "metadata": {
  "kernelspec": {
   "display_name": "Python 3 (ipykernel)",
   "language": "python",
   "name": "python3"
  },
  "language_info": {
   "codemirror_mode": {
    "name": "ipython",
    "version": 3
   },
   "file_extension": ".py",
   "mimetype": "text/x-python",
   "name": "python",
   "nbconvert_exporter": "python",
   "pygments_lexer": "ipython3",
   "version": "3.12.7"
  }
 },
 "nbformat": 4,
 "nbformat_minor": 5
}
