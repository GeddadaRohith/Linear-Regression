{
 "cells": [
  {
   "cell_type": "code",
   "execution_count": 2,
   "id": "daf0b8c4-de2d-4556-bf20-122c9ab8b1dc",
   "metadata": {},
   "outputs": [
    {
     "name": "stdout",
     "output_type": "stream",
     "text": [
      "Integer :  4\n",
      "Float : 4.2\n",
      "String APPLE\n",
      "Boolean True\n"
     ]
    }
   ],
   "source": [
    "a = 4\n",
    "print(\"Integer : \",a)\n",
    "\n",
    "b = 4.2\n",
    "print(\"Float :\",b)\n",
    "\n",
    "c = \"APPLE\"\n",
    "print(\"String\",c)\n",
    "\n",
    "d = True\n",
    "print(\"Boolean\",d)"
   ]
  }
 ],
 "metadata": {
  "kernelspec": {
   "display_name": "Python 3 (ipykernel)",
   "language": "python",
   "name": "python3"
  },
  "language_info": {
   "codemirror_mode": {
    "name": "ipython",
    "version": 3
   },
   "file_extension": ".py",
   "mimetype": "text/x-python",
   "name": "python",
   "nbconvert_exporter": "python",
   "pygments_lexer": "ipython3",
   "version": "3.12.7"
  }
 },
 "nbformat": 4,
 "nbformat_minor": 5
}
