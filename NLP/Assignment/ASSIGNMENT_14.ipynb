{
 "cells": [
  {
   "cell_type": "raw",
   "id": "a1fbd81e-2dfa-45c8-af50-084002c489c3",
   "metadata": {},
   "source": [
    "Write a Python program to load a text file, tokenize the text using NLTK, and display the 10 most common words. Use the NLTK library for tokenization.\n"
   ]
  },
  {
   "cell_type": "code",
   "execution_count": 1,
   "id": "6be4108e-a0b5-4ec9-985f-aa3b141a46b9",
   "metadata": {},
   "outputs": [],
   "source": [
    "import nltk\n",
    "from nltk.tokenize import word_tokenize\n",
    "from nltk.probability import FreqDist"
   ]
  },
  {
   "cell_type": "code",
   "execution_count": 2,
   "id": "3f99bc50-3a57-4a4f-9d4c-8ba38e021043",
   "metadata": {},
   "outputs": [
    {
     "name": "stderr",
     "output_type": "stream",
     "text": [
      "[nltk_data] Downloading package punkt to\n",
      "[nltk_data]     C:\\Users\\rohit\\AppData\\Roaming\\nltk_data...\n",
      "[nltk_data]   Package punkt is already up-to-date!\n"
     ]
    },
    {
     "data": {
      "text/plain": [
       "True"
      ]
     },
     "execution_count": 2,
     "metadata": {},
     "output_type": "execute_result"
    }
   ],
   "source": [
    "nltk.download('punkt')"
   ]
  },
  {
   "cell_type": "code",
   "execution_count": 3,
   "id": "bf858699-741f-45d7-9585-3eaa8217a3a4",
   "metadata": {},
   "outputs": [],
   "source": [
    "\n",
    "def load_and_tokenize(file_path):\n",
    "    with open(file_path, 'r') as file:\n",
    "        text = file.read()\n",
    "    tokens = word_tokenize(text)\n",
    "    return tokens\n"
   ]
  },
  {
   "cell_type": "code",
   "execution_count": 4,
   "id": "4867ef6d-17a9-4d3a-9334-4ba5cc7d43c0",
   "metadata": {},
   "outputs": [],
   "source": [
    "\n",
    "def display_most_common_words(tokens, num_common=10):\n",
    "    fdist = FreqDist(tokens)\n",
    "    common_words = fdist.most_common(num_common)\n",
    "    for word, freq in common_words:\n",
    "        print(f\"{word}: {freq}\")\n"
   ]
  },
  {
   "cell_type": "code",
   "execution_count": 5,
   "id": "6b86affb-c1bb-4918-bc18-22dcf77712f0",
   "metadata": {},
   "outputs": [
    {
     "name": "stdout",
     "output_type": "stream",
     "text": [
      ",: 7\n",
      "for: 3\n",
      ".: 3\n",
      "and: 2\n",
      "text: 2\n",
      "Gensim: 1\n",
      "is: 1\n",
      "a: 1\n",
      "popular: 1\n",
      "Python: 1\n"
     ]
    }
   ],
   "source": [
    "\n",
    "file_path = 'sample.txt'  \n",
    "\n",
    "tokens = load_and_tokenize(file_path)\n",
    "display_most_common_words(tokens)\n"
   ]
  },
  {
   "cell_type": "code",
   "execution_count": null,
   "id": "b21f11f1-6366-4a2a-aedd-0bac3c1fe588",
   "metadata": {},
   "outputs": [],
   "source": []
  }
 ],
 "metadata": {
  "kernelspec": {
   "display_name": "Python 3 (ipykernel)",
   "language": "python",
   "name": "python3"
  },
  "language_info": {
   "codemirror_mode": {
    "name": "ipython",
    "version": 3
   },
   "file_extension": ".py",
   "mimetype": "text/x-python",
   "name": "python",
   "nbconvert_exporter": "python",
   "pygments_lexer": "ipython3",
   "version": "3.12.7"
  }
 },
 "nbformat": 4,
 "nbformat_minor": 5
}
