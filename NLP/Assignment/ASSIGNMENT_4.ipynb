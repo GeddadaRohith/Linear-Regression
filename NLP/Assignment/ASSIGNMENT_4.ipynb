{
 "cells": [
  {
   "cell_type": "raw",
   "id": "0f4a7b95-f07f-48ab-9fde-97acd83d7bd7",
   "metadata": {},
   "source": [
    "Write a Python program to calculate the sum of all even numbers between 1 and a given positive integer n"
   ]
  },
  {
   "cell_type": "code",
   "execution_count": 1,
   "id": "57189a09-95b4-4c04-b0a9-e9167248024b",
   "metadata": {},
   "outputs": [
    {
     "name": "stdin",
     "output_type": "stream",
     "text": [
      "Enter integer :  10\n"
     ]
    },
    {
     "name": "stdout",
     "output_type": "stream",
     "text": [
      "The sum of all even numbers between 1 and 10 is 30\n"
     ]
    }
   ],
   "source": [
    "n=int(input(\"Enter integer : \"))\n",
    "even = [i for i in range(1,n+1) if i%2 == 0]\n",
    "print(f\"The sum of all even numbers between 1 and {n} is {sum(even)}\")"
   ]
  }
 ],
 "metadata": {
  "kernelspec": {
   "display_name": "Python 3 (ipykernel)",
   "language": "python",
   "name": "python3"
  },
  "language_info": {
   "codemirror_mode": {
    "name": "ipython",
    "version": 3
   },
   "file_extension": ".py",
   "mimetype": "text/x-python",
   "name": "python",
   "nbconvert_exporter": "python",
   "pygments_lexer": "ipython3",
   "version": "3.12.7"
  }
 },
 "nbformat": 4,
 "nbformat_minor": 5
}
