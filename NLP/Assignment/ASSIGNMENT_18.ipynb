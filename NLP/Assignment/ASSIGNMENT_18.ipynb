{
 "cells": [
  {
   "cell_type": "raw",
   "id": "2e3d3169-8088-4499-aad0-5c3e4aa1e7a1",
   "metadata": {},
   "source": [
    "Write a Python program to load a text file, perform tokenization, calculate the term frequency (TF) of each token, and display the top 5 most frequent tokens.\n"
   ]
  },
  {
   "cell_type": "code",
   "execution_count": 1,
   "id": "7a60c4e2-462e-4a6a-942e-89bbd6607fde",
   "metadata": {},
   "outputs": [],
   "source": [
    "import string\n",
    "from collections import Counter"
   ]
  },
  {
   "cell_type": "code",
   "execution_count": 2,
   "id": "1e4ac002-22f7-4867-8362-7fc37f2ff51d",
   "metadata": {},
   "outputs": [],
   "source": [
    "def process_text_file(file_path):\n",
    "    try:\n",
    "        with open(file_path, 'r') as file:\n",
    "            text = file.read()\n",
    "\n",
    "        tokens = text.lower().translate(str.maketrans(\"\", \"\", string.punctuation)).split()\n",
    "\n",
    "        term_frequency = Counter(tokens)\n",
    "\n",
    "        most_frequent = term_frequency.most_common(5)\n",
    "\n",
    "        print(\"Top 5 Most Frequent Tokens:\")\n",
    "        for token, frequency in most_frequent:\n",
    "            print(f\"{token:<15} {frequency}\")\n",
    "    except FileNotFoundError:\n",
    "        print(f\"Error: The file '{file_path}' was not found.\")\n",
    "    except Exception as e:\n",
    "        print(f\"An error occurred: {e}\")\n"
   ]
  },
  {
   "cell_type": "code",
   "execution_count": 3,
   "id": "325f8a6b-5e9f-47ee-8e62-3636c405d21a",
   "metadata": {},
   "outputs": [
    {
     "name": "stdout",
     "output_type": "stream",
     "text": [
      "Top 5 Most Frequent Tokens:\n",
      "for             3\n",
      "and             2\n",
      "text            2\n",
      "gensim          1\n",
      "is              1\n"
     ]
    }
   ],
   "source": [
    "file_path = \"sample.txt\"\n",
    "process_text_file(file_path)"
   ]
  }
 ],
 "metadata": {
  "kernelspec": {
   "display_name": "Python 3 (ipykernel)",
   "language": "python",
   "name": "python3"
  },
  "language_info": {
   "codemirror_mode": {
    "name": "ipython",
    "version": 3
   },
   "file_extension": ".py",
   "mimetype": "text/x-python",
   "name": "python",
   "nbconvert_exporter": "python",
   "pygments_lexer": "ipython3",
   "version": "3.12.7"
  }
 },
 "nbformat": 4,
 "nbformat_minor": 5
}
