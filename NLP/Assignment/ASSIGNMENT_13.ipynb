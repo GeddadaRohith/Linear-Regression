{
 "cells": [
  {
   "cell_type": "raw",
   "id": "1081a4e2-30b0-4066-9c44-60389fa1ea0f",
   "metadata": {},
   "source": [
    "Write a Python script to perform part-of-speech tagging on the sentence: 'NLP is amazing and fun to learn.' using SpaCy.\n"
   ]
  },
  {
   "cell_type": "code",
   "execution_count": 1,
   "id": "8d39bde4-aec8-4be4-9a67-eb7f6fe0415d",
   "metadata": {},
   "outputs": [],
   "source": [
    "import spacy"
   ]
  },
  {
   "cell_type": "code",
   "execution_count": 2,
   "id": "3e7960a6-21b4-4823-83d4-e2285a6886cc",
   "metadata": {},
   "outputs": [],
   "source": [
    "nlp = spacy.load(\"en_core_web_sm\")\n",
    "\n",
    "sentence = \"NLP is amazing and fun to learn.\"\n",
    "\n",
    "doc = nlp(sentence)\n"
   ]
  },
  {
   "cell_type": "code",
   "execution_count": 3,
   "id": "bf40d40b-d115-42d4-ac36-dc24ae747a7a",
   "metadata": {},
   "outputs": [
    {
     "name": "stdout",
     "output_type": "stream",
     "text": [
      "NLP: PROPN\n",
      "is: AUX\n",
      "amazing: ADJ\n",
      "and: CCONJ\n",
      "fun: ADJ\n",
      "to: PART\n",
      "learn: VERB\n",
      ".: PUNCT\n"
     ]
    }
   ],
   "source": [
    "for token in doc:\n",
    "    print(f\"{token.text}: {token.pos_}\")\n"
   ]
  }
 ],
 "metadata": {
  "kernelspec": {
   "display_name": "Python 3 (ipykernel)",
   "language": "python",
   "name": "python3"
  },
  "language_info": {
   "codemirror_mode": {
    "name": "ipython",
    "version": 3
   },
   "file_extension": ".py",
   "mimetype": "text/x-python",
   "name": "python",
   "nbconvert_exporter": "python",
   "pygments_lexer": "ipython3",
   "version": "3.12.7"
  }
 },
 "nbformat": 4,
 "nbformat_minor": 5
}
