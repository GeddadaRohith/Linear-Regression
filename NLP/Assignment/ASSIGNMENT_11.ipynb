{
 "cells": [
  {
   "cell_type": "raw",
   "id": "8b77608a-5592-4475-bd15-dae39347db09",
   "metadata": {},
   "source": [
    "Write a Python script to fetch and print the title of a webpage using the 'requests' and 'BeautifulSoup' libraries. Test it with the URL: 'https://example.com'.\n"
   ]
  },
  {
   "cell_type": "code",
   "execution_count": 5,
   "id": "49ea38c3-04a4-4535-8c07-afac1b71a26a",
   "metadata": {},
   "outputs": [],
   "source": [
    "import requests\n",
    "from bs4 import BeautifulSoup"
   ]
  },
  {
   "cell_type": "code",
   "execution_count": null,
   "id": "f5a358a5-59c7-4cd0-be96-7cc2af0cc440",
   "metadata": {},
   "outputs": [],
   "source": []
  },
  {
   "cell_type": "code",
   "execution_count": 6,
   "id": "8828754a-5436-4cfb-9dcd-d549d5c77baf",
   "metadata": {},
   "outputs": [],
   "source": [
    "def fetch_webpage_title(url):\n",
    "    try:\n",
    "        response = requests.get(url)\n",
    "        response.raise_for_status()\n",
    "        \n",
    "        soup = BeautifulSoup(response.text, 'html.parser')\n",
    "        \n",
    "        title = soup.title.string if soup.title else \"No title found\"\n",
    "        return title\n",
    "    except requests.exceptions.RequestException as e:\n",
    "        return f\"An error occurred: {e}\""
   ]
  },
  {
   "cell_type": "code",
   "execution_count": 3,
   "id": "a16c2420-5704-4b47-bed4-7b6a2fafc9fe",
   "metadata": {},
   "outputs": [
    {
     "name": "stdout",
     "output_type": "stream",
     "text": [
      "Webpage Title: Example Domain\n"
     ]
    }
   ],
   "source": [
    "url = 'https://example.com'\n",
    "title = fetch_webpage_title(url)\n",
    "print(\"Webpage Title:\", title)"
   ]
  }
 ],
 "metadata": {
  "kernelspec": {
   "display_name": "Python 3 (ipykernel)",
   "language": "python",
   "name": "python3"
  },
  "language_info": {
   "codemirror_mode": {
    "name": "ipython",
    "version": 3
   },
   "file_extension": ".py",
   "mimetype": "text/x-python",
   "name": "python",
   "nbconvert_exporter": "python",
   "pygments_lexer": "ipython3",
   "version": "3.12.7"
  }
 },
 "nbformat": 4,
 "nbformat_minor": 5
}
