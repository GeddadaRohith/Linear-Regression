{
 "cells": [
  {
   "cell_type": "raw",
   "id": "5e460548-5557-40a3-8dac-c90a58b0f310",
   "metadata": {},
   "source": [
    "1. Write a Python program to calculate the frequency of each word in a given text. Print the\n",
    "words and their corresponding counts"
   ]
  },
  {
   "cell_type": "code",
   "execution_count": 15,
   "id": "0c29d6f0-1b23-4e42-9ac5-0aeecddad290",
   "metadata": {},
   "outputs": [
    {
     "name": "stdin",
     "output_type": "stream",
     "text": [
      "Enter the sentence:   1. Supervised Learning: The algorithm is trained on labeled data to learn the relationship between input and output variables. 2. Unsupervised Learning: The algorithm is trained on unlabeled data to discover patterns or relationships. 3. Reinforcement Learning: The algorithm learns through trial and error by interacting with an environment.\n"
     ]
    },
    {
     "name": "stdout",
     "output_type": "stream",
     "text": [
      "['1', '.', 'Supervised', 'Learning', ':', 'The', 'algorithm', 'is', 'trained', 'on', 'labeled', 'data', 'to', 'learn', 'the', 'relationship', 'between', 'input', 'and', 'output', 'variables', '.', '2', '.', 'Unsupervised', 'Learning', ':', 'The', 'algorithm', 'is', 'trained', 'on', 'unlabeled', 'data', 'to', 'discover', 'patterns', 'or', 'relationships', '.', '3', '.', 'Reinforcement', 'Learning', ':', 'The', 'algorithm', 'learns', 'through', 'trial', 'and', 'error', 'by', 'interacting', 'with', 'an', 'environment', '.']\n"
     ]
    }
   ],
   "source": [
    "from nltk.tokenize import word_tokenize\n",
    "from collections import Counter\n",
    "text = input(\"Enter the sentence: \")\n",
    "tokens = word_tokenize(text)\n",
    "print(tokens)"
   ]
  },
  {
   "cell_type": "code",
   "execution_count": 16,
   "id": "1f4cfd1d-a5f8-421d-9741-6dfbcfb7329d",
   "metadata": {},
   "outputs": [
    {
     "name": "stdout",
     "output_type": "stream",
     "text": [
      "'1': 1\n",
      "'.': 6\n",
      "'Supervised': 1\n",
      "'Learning': 3\n",
      "':': 3\n",
      "'The': 3\n",
      "'algorithm': 3\n",
      "'is': 2\n",
      "'trained': 2\n",
      "'on': 2\n",
      "'labeled': 1\n",
      "'data': 2\n",
      "'to': 2\n",
      "'learn': 1\n",
      "'the': 1\n",
      "'relationship': 1\n",
      "'between': 1\n",
      "'input': 1\n",
      "'and': 2\n",
      "'output': 1\n",
      "'variables': 1\n",
      "'2': 1\n",
      "'Unsupervised': 1\n",
      "'unlabeled': 1\n",
      "'discover': 1\n",
      "'patterns': 1\n",
      "'or': 1\n",
      "'relationships': 1\n",
      "'3': 1\n",
      "'Reinforcement': 1\n",
      "'learns': 1\n",
      "'through': 1\n",
      "'trial': 1\n",
      "'error': 1\n",
      "'by': 1\n",
      "'interacting': 1\n",
      "'with': 1\n",
      "'an': 1\n",
      "'environment': 1\n"
     ]
    }
   ],
   "source": [
    "count_word = Counter(tokens)\n",
    "for word, count in count_word.items():\n",
    "    print(f\"'{word}': {count}\")"
   ]
  }
 ],
 "metadata": {
  "kernelspec": {
   "display_name": "Python 3 (ipykernel)",
   "language": "python",
   "name": "python3"
  },
  "language_info": {
   "codemirror_mode": {
    "name": "ipython",
    "version": 3
   },
   "file_extension": ".py",
   "mimetype": "text/x-python",
   "name": "python",
   "nbconvert_exporter": "python",
   "pygments_lexer": "ipython3",
   "version": "3.12.7"
  }
 },
 "nbformat": 4,
 "nbformat_minor": 5
}
