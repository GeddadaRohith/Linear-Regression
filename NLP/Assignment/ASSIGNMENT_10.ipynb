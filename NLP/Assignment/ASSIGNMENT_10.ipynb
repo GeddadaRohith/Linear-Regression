{
 "cells": [
  {
   "cell_type": "raw",
   "id": "63629120-8b68-47b3-b027-b9e09e4447f4",
   "metadata": {},
   "source": [
    "Write a Python function using regular expressions to extract all email addresses from a given string. Test it with the input: 'Contact us at support@example.com and sales@example.org.'\n"
   ]
  },
  {
   "cell_type": "code",
   "execution_count": 1,
   "id": "d9858409-037e-47cb-bbaf-1931bf24cbd2",
   "metadata": {},
   "outputs": [],
   "source": [
    "import re"
   ]
  },
  {
   "cell_type": "code",
   "execution_count": 10,
   "id": "00d438e0-4fb4-4205-8197-856257ef76b7",
   "metadata": {},
   "outputs": [],
   "source": [
    "def extract_emails(text):\n",
    "    email_pattern = r'[a-zA-Z0-9.]+@[a-zA-Z0-9.]+\\.[a-zA-Z]{2,}'\n",
    "    emails = re.findall(email_pattern, text)\n",
    "    return emails"
   ]
  },
  {
   "cell_type": "code",
   "execution_count": 11,
   "id": "47bb453c-b075-45c8-b170-e938d815db47",
   "metadata": {},
   "outputs": [
    {
     "name": "stdout",
     "output_type": "stream",
     "text": [
      "Extracted Emails: ['support@example.com', 'sales@example.org']\n"
     ]
    }
   ],
   "source": [
    "input_text = 'Contact us at support@example.com and sales@example.org.'\n",
    "result = extract_emails(input_text)\n",
    "print(\"Extracted Emails:\", result)"
   ]
  },
  {
   "cell_type": "code",
   "execution_count": null,
   "id": "b8cafe8e-9a00-4816-84bd-c022486420cf",
   "metadata": {},
   "outputs": [],
   "source": []
  }
 ],
 "metadata": {
  "kernelspec": {
   "display_name": "Python 3 (ipykernel)",
   "language": "python",
   "name": "python3"
  },
  "language_info": {
   "codemirror_mode": {
    "name": "ipython",
    "version": 3
   },
   "file_extension": ".py",
   "mimetype": "text/x-python",
   "name": "python",
   "nbconvert_exporter": "python",
   "pygments_lexer": "ipython3",
   "version": "3.12.7"
  }
 },
 "nbformat": 4,
 "nbformat_minor": 5
}
