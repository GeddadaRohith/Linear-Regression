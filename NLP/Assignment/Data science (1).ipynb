{
 "cells": [
  {
   "cell_type": "markdown",
   "id": "28a1e2eb-16e2-42e8-8c33-d8a44d254369",
   "metadata": {},
   "source": [
    "# DATA SCIENCE"
   ]
  },
  {
   "cell_type": "raw",
   "id": "e47063b5-202f-4352-b2e9-ae8a59af6314",
   "metadata": {},
   "source": [
    "KEY COMPONENTS:\n",
    "Data Collection :gathering structured data and unstructured data .\n",
    "Data Processing : cleaning and transforming data .\n",
    "Data Analysis: using statistical and machine learning method to uncover patterns .\n",
    "Visualization : "
   ]
  },
  {
   "cell_type": "markdown",
   "id": "7b1d9c2c-6ced-464e-94b9-84c879f2d14f",
   "metadata": {},
   "source": [
    "# MACHINE LEARNING"
   ]
  },
  {
   "cell_type": "raw",
   "id": "5d5b32f7-cf8e-4978-b416-8c4ec6d07f55",
   "metadata": {},
   "source": [
    "Regression \n",
    "classification\n",
    "clustring"
   ]
  },
  {
   "cell_type": "markdown",
   "id": "bd49d42f-b887-4dc7-8134-0907768c7be4",
   "metadata": {},
   "source": [
    "# EX 1"
   ]
  },
  {
   "cell_type": "code",
   "execution_count": 6,
   "id": "7dbca718-14c8-4c37-a392-0f68763406a0",
   "metadata": {},
   "outputs": [
    {
     "name": "stdout",
     "output_type": "stream",
     "text": [
      "Predicted vaule for year 2025 : 400.00\n"
     ]
    }
   ],
   "source": [
    "from sklearn.linear_model import LinearRegression\n",
    "from sklearn.model_selection import train_test_split\n",
    "\n",
    "years = [[2015],[2016],[2017],[2018],[2019],[2020]] #independent\n",
    "values = [200,220,240,260,280,300] #dependent\n",
    "\n",
    "\n",
    "#splitting data into 80% and 20%\n",
    "years_train , years_test ,values_train , values_test = train_test_split(years,values,test_size=0.2,random_state=42)\n",
    "\n",
    "model = LinearRegression()\n",
    "model.fit(years_train , values_train)\n",
    "\n",
    "future_year = [[2025]]\n",
    "predicted_value = model.predict(future_year)\n",
    "\n",
    "print(f\"Predicted vaule for year {future_year[0][0]} : {predicted_value[0]:.2f}\")"
   ]
  },
  {
   "cell_type": "markdown",
   "id": "073e5c81-80cd-4781-b780-303b1562321c",
   "metadata": {},
   "source": [
    "# EX 2"
   ]
  },
  {
   "cell_type": "code",
   "execution_count": 7,
   "id": "df87083c-dfe5-4c75-8ca4-78d485cd8e8e",
   "metadata": {},
   "outputs": [
    {
     "name": "stdout",
     "output_type": "stream",
     "text": [
      "Predicted cgap for year 4 : 852.00\n"
     ]
    }
   ],
   "source": [
    "years = [[1],[2],[3]]\n",
    "cgpa = [844,834,843]\n",
    "\n",
    "year_train , year_test , cgpa_train,cgpa_test = train_test_split(years ,cgpa , test_size = 0.2,random_state=42)\n",
    "\n",
    "model.fit(year_train,cgpa_train)\n",
    "\n",
    "next_year = [[4]]\n",
    "\n",
    "predict_cgpa = model.predict(next_year)\n",
    "\n",
    "print(f\"Predicted cgap for year {next_year[0][0]} : {predict_cgpa[0]:.2f}\")"
   ]
  },
  {
   "cell_type": "markdown",
   "id": "06d9de5f-ca7f-4f14-ae18-abd7bc653de8",
   "metadata": {},
   "source": [
    "# CHATBOT"
   ]
  },
  {
   "cell_type": "code",
   "execution_count": 4,
   "id": "ed95abde-1a32-40ad-b4b0-bd8a51b65a0b",
   "metadata": {
    "collapsed": true,
    "jupyter": {
     "outputs_hidden": true
    },
    "scrolled": true
   },
   "outputs": [
    {
     "name": "stdout",
     "output_type": "stream",
     "text": [
      "Collecting SpeechRecognition\n",
      "  Downloading SpeechRecognition-3.13.0-py3-none-any.whl.metadata (30 kB)\n",
      "Collecting pyttsx3\n",
      "  Downloading pyttsx3-2.98-py3-none-any.whl.metadata (3.8 kB)\n",
      "Collecting pyaudio\n",
      "  Downloading PyAudio-0.2.14-cp312-cp312-win_amd64.whl.metadata (2.7 kB)\n",
      "Requirement already satisfied: typing-extensions in c:\\users\\rohit\\anaconda3\\lib\\site-packages (from SpeechRecognition) (4.11.0)\n",
      "Collecting comtypes (from pyttsx3)\n",
      "  Downloading comtypes-1.4.9-py3-none-any.whl.metadata (7.1 kB)\n",
      "Collecting pypiwin32 (from pyttsx3)\n",
      "  Downloading pypiwin32-223-py3-none-any.whl.metadata (236 bytes)\n",
      "Requirement already satisfied: pywin32 in c:\\users\\rohit\\anaconda3\\lib\\site-packages (from pyttsx3) (305.1)\n",
      "Downloading SpeechRecognition-3.13.0-py3-none-any.whl (32.8 MB)\n",
      "   ---------------------------------------- 0.0/32.8 MB ? eta -:--:--\n",
      "   - -------------------------------------- 1.0/32.8 MB 5.6 MB/s eta 0:00:06\n",
      "   -- ------------------------------------- 2.4/32.8 MB 6.1 MB/s eta 0:00:06\n",
      "   ---- ----------------------------------- 3.7/32.8 MB 6.2 MB/s eta 0:00:05\n",
      "   ------ --------------------------------- 5.0/32.8 MB 6.3 MB/s eta 0:00:05\n",
      "   ------- -------------------------------- 6.3/32.8 MB 6.3 MB/s eta 0:00:05\n",
      "   -------- ------------------------------- 7.3/32.8 MB 6.1 MB/s eta 0:00:05\n",
      "   ---------- ----------------------------- 8.7/32.8 MB 6.2 MB/s eta 0:00:04\n",
      "   ----------- ---------------------------- 9.4/32.8 MB 5.9 MB/s eta 0:00:04\n",
      "   ------------ --------------------------- 10.5/32.8 MB 5.8 MB/s eta 0:00:04\n",
      "   ------------- -------------------------- 11.0/32.8 MB 5.7 MB/s eta 0:00:04\n",
      "   --------------- ------------------------ 12.3/32.8 MB 5.5 MB/s eta 0:00:04\n",
      "   ---------------- ----------------------- 13.4/32.8 MB 5.4 MB/s eta 0:00:04\n",
      "   ----------------- ---------------------- 14.4/32.8 MB 5.4 MB/s eta 0:00:04\n",
      "   ------------------ --------------------- 14.9/32.8 MB 5.3 MB/s eta 0:00:04\n",
      "   ------------------- -------------------- 16.0/32.8 MB 5.2 MB/s eta 0:00:04\n",
      "   -------------------- ------------------- 16.5/32.8 MB 5.1 MB/s eta 0:00:04\n",
      "   --------------------- ------------------ 17.6/32.8 MB 5.1 MB/s eta 0:00:04\n",
      "   ---------------------- ----------------- 18.1/32.8 MB 4.9 MB/s eta 0:00:03\n",
      "   ----------------------- ---------------- 19.1/32.8 MB 4.9 MB/s eta 0:00:03\n",
      "   ------------------------ --------------- 20.2/32.8 MB 4.9 MB/s eta 0:00:03\n",
      "   -------------------------- ------------- 21.5/32.8 MB 5.0 MB/s eta 0:00:03\n",
      "   --------------------------- ------------ 22.8/32.8 MB 5.0 MB/s eta 0:00:02\n",
      "   ----------------------------- ---------- 23.9/32.8 MB 5.0 MB/s eta 0:00:02\n",
      "   ------------------------------ --------- 24.9/32.8 MB 5.0 MB/s eta 0:00:02\n",
      "   ------------------------------- -------- 26.0/32.8 MB 5.0 MB/s eta 0:00:02\n",
      "   -------------------------------- ------- 26.7/32.8 MB 5.0 MB/s eta 0:00:02\n",
      "   ---------------------------------- ----- 28.0/32.8 MB 5.1 MB/s eta 0:00:01\n",
      "   ----------------------------------- ---- 29.4/32.8 MB 5.1 MB/s eta 0:00:01\n",
      "   ------------------------------------- -- 30.4/32.8 MB 5.1 MB/s eta 0:00:01\n",
      "   -------------------------------------- - 31.5/32.8 MB 5.1 MB/s eta 0:00:01\n",
      "   ---------------------------------------  32.8/32.8 MB 5.1 MB/s eta 0:00:01\n",
      "   ---------------------------------------- 32.8/32.8 MB 5.1 MB/s eta 0:00:00\n",
      "Downloading pyttsx3-2.98-py3-none-any.whl (34 kB)\n",
      "Downloading PyAudio-0.2.14-cp312-cp312-win_amd64.whl (164 kB)\n",
      "Downloading comtypes-1.4.9-py3-none-any.whl (234 kB)\n",
      "Downloading pypiwin32-223-py3-none-any.whl (1.7 kB)\n",
      "Installing collected packages: pyaudio, SpeechRecognition, pypiwin32, comtypes, pyttsx3\n",
      "Successfully installed SpeechRecognition-3.13.0 comtypes-1.4.9 pyaudio-0.2.14 pypiwin32-223 pyttsx3-2.98\n"
     ]
    }
   ],
   "source": [
    "!pip install SpeechRecognition pyttsx3 pyaudio"
   ]
  },
  {
   "cell_type": "code",
   "execution_count": null,
   "id": "3082d095-e90c-41ee-b8ba-8c90afb8d8b1",
   "metadata": {},
   "outputs": [
    {
     "name": "stdin",
     "output_type": "stream",
     "text": [
      "You :  You know bhumika\n",
      "You :  You know bhumika\n"
     ]
    }
   ],
   "source": [
    "import pyttsx3\n",
    "\n",
    "engine = pyttsx3.init()\n",
    "\n",
    "def speak(text):\n",
    "    \"\"\"make the assistant speak.\"\"\"\n",
    "    engine.say(text)\n",
    "    engine.runAndWait()\n",
    "\n",
    "def main():\n",
    "    speak(\"Hello ! iam your simple bot from mruh.\")\n",
    "    speak(\"you can say hello , ask my name , or say good bye \")\n",
    "    \n",
    "    while True:\n",
    "        command = input(\"You : \").lower()\n",
    "        if \"hello\" in command:\n",
    "            speak(\"HI there ! welcom to mallareddy collage.\")\n",
    "        elif \"What's your name\" in command or \"what is your name\" in command:\n",
    "            speak(\"my name simple chat bot from  mallareddy college.\")\n",
    "        elif \"goodbye\" in command or \"bye\" in command:\n",
    "            speak(\"GoodBye! have a great day at mallareddy college.\")\n",
    "            break\n",
    "        else:\n",
    "            speak(\"I didn't understand that . please try again\" )\n",
    "\n",
    "if __name__ == \"__main__\":\n",
    "    main()"
   ]
  },
  {
   "cell_type": "code",
   "execution_count": null,
   "id": "3ec37724-d417-467c-ba08-50376e7117f4",
   "metadata": {},
   "outputs": [],
   "source": []
  },
  {
   "cell_type": "code",
   "execution_count": 6,
   "id": "4d12541d-bd49-4454-bdac-2bec96bc9f14",
   "metadata": {
    "collapsed": true,
    "jupyter": {
     "outputs_hidden": true
    },
    "scrolled": true
   },
   "outputs": [
    {
     "ename": "KeyboardInterrupt",
     "evalue": "",
     "output_type": "error",
     "traceback": [
      "\u001b[1;31m---------------------------------------------------------------------------\u001b[0m",
      "\u001b[1;31mKeyboardInterrupt\u001b[0m                         Traceback (most recent call last)",
      "Cell \u001b[1;32mIn[6], line 39\u001b[0m\n\u001b[0;32m     36\u001b[0m             speak(\u001b[38;5;124m\"\u001b[39m\u001b[38;5;124mI didn\u001b[39m\u001b[38;5;124m'\u001b[39m\u001b[38;5;124mt understand that . please try again\u001b[39m\u001b[38;5;124m\"\u001b[39m )\n\u001b[0;32m     38\u001b[0m \u001b[38;5;28;01mif\u001b[39;00m \u001b[38;5;18m__name__\u001b[39m \u001b[38;5;241m==\u001b[39m \u001b[38;5;124m\"\u001b[39m\u001b[38;5;124m__main__\u001b[39m\u001b[38;5;124m\"\u001b[39m:\n\u001b[1;32m---> 39\u001b[0m     main()\n",
      "Cell \u001b[1;32mIn[6], line 27\u001b[0m, in \u001b[0;36mmain\u001b[1;34m()\u001b[0m\n\u001b[0;32m     24\u001b[0m speak(\u001b[38;5;124m\"\u001b[39m\u001b[38;5;124mhow can i help you \u001b[39m\u001b[38;5;124m\"\u001b[39m)\n\u001b[0;32m     26\u001b[0m \u001b[38;5;28;01mwhile\u001b[39;00m \u001b[38;5;28;01mTrue\u001b[39;00m:\n\u001b[1;32m---> 27\u001b[0m     command \u001b[38;5;241m=\u001b[39m listen()\n\u001b[0;32m     28\u001b[0m     \u001b[38;5;28;01mif\u001b[39;00m \u001b[38;5;124m\"\u001b[39m\u001b[38;5;124mhello\u001b[39m\u001b[38;5;124m\"\u001b[39m \u001b[38;5;129;01min\u001b[39;00m command:\n\u001b[0;32m     29\u001b[0m         speak(\u001b[38;5;124m\"\u001b[39m\u001b[38;5;124mHI there ! welcom to mallareddy collage.\u001b[39m\u001b[38;5;124m\"\u001b[39m)\n",
      "Cell \u001b[1;32mIn[6], line 13\u001b[0m, in \u001b[0;36mlisten\u001b[1;34m()\u001b[0m\n\u001b[0;32m     11\u001b[0m recognizer \u001b[38;5;241m=\u001b[39m sr\u001b[38;5;241m.\u001b[39mRecognizer()\n\u001b[0;32m     12\u001b[0m \u001b[38;5;28;01mwith\u001b[39;00m sr\u001b[38;5;241m.\u001b[39mMicrophone() \u001b[38;5;28;01mas\u001b[39;00m source:\n\u001b[1;32m---> 13\u001b[0m     speak(\u001b[38;5;124m\"\u001b[39m\u001b[38;5;124mI am listening , pleace speak.\u001b[39m\u001b[38;5;124m\"\u001b[39m)\n\u001b[0;32m     14\u001b[0m     \u001b[38;5;28;01mtry\u001b[39;00m:\n\u001b[0;32m     15\u001b[0m         audio \u001b[38;5;241m=\u001b[39m recognizer\u001b[38;5;241m.\u001b[39mlisten(source)\n",
      "Cell \u001b[1;32mIn[6], line 9\u001b[0m, in \u001b[0;36mspeak\u001b[1;34m(text)\u001b[0m\n\u001b[0;32m      7\u001b[0m \u001b[38;5;250m\u001b[39m\u001b[38;5;124;03m\"\"\"make the assistant speak.\"\"\"\u001b[39;00m\n\u001b[0;32m      8\u001b[0m engine\u001b[38;5;241m.\u001b[39msay(text)\n\u001b[1;32m----> 9\u001b[0m engine\u001b[38;5;241m.\u001b[39mrunAndWait()\n",
      "File \u001b[1;32m~\\anaconda3\\Lib\\site-packages\\pyttsx3\\engine.py:183\u001b[0m, in \u001b[0;36mEngine.runAndWait\u001b[1;34m(self)\u001b[0m\n\u001b[0;32m    181\u001b[0m \u001b[38;5;28mself\u001b[39m\u001b[38;5;241m.\u001b[39m_inLoop \u001b[38;5;241m=\u001b[39m \u001b[38;5;28;01mTrue\u001b[39;00m\n\u001b[0;32m    182\u001b[0m \u001b[38;5;28mself\u001b[39m\u001b[38;5;241m.\u001b[39m_driverLoop \u001b[38;5;241m=\u001b[39m \u001b[38;5;28;01mTrue\u001b[39;00m\n\u001b[1;32m--> 183\u001b[0m \u001b[38;5;28mself\u001b[39m\u001b[38;5;241m.\u001b[39mproxy\u001b[38;5;241m.\u001b[39mrunAndWait()\n",
      "File \u001b[1;32m~\\anaconda3\\Lib\\site-packages\\pyttsx3\\driver.py:195\u001b[0m, in \u001b[0;36mDriverProxy.runAndWait\u001b[1;34m(self)\u001b[0m\n\u001b[0;32m    190\u001b[0m \u001b[38;5;250m\u001b[39m\u001b[38;5;124;03m'''\u001b[39;00m\n\u001b[0;32m    191\u001b[0m \u001b[38;5;124;03mCalled by the engine to start an event loop, process all commands in\u001b[39;00m\n\u001b[0;32m    192\u001b[0m \u001b[38;5;124;03mthe queue at the start of the loop, and then exit the loop.\u001b[39;00m\n\u001b[0;32m    193\u001b[0m \u001b[38;5;124;03m'''\u001b[39;00m\n\u001b[0;32m    194\u001b[0m \u001b[38;5;28mself\u001b[39m\u001b[38;5;241m.\u001b[39m_push(\u001b[38;5;28mself\u001b[39m\u001b[38;5;241m.\u001b[39m_engine\u001b[38;5;241m.\u001b[39mendLoop, \u001b[38;5;28mtuple\u001b[39m())\n\u001b[1;32m--> 195\u001b[0m \u001b[38;5;28mself\u001b[39m\u001b[38;5;241m.\u001b[39m_driver\u001b[38;5;241m.\u001b[39mstartLoop()\n",
      "File \u001b[1;32m~\\anaconda3\\Lib\\site-packages\\pyttsx3\\drivers\\sapi5.py:146\u001b[0m, in \u001b[0;36mSAPI5Driver.startLoop\u001b[1;34m(self)\u001b[0m\n\u001b[0;32m    144\u001b[0m     first \u001b[38;5;241m=\u001b[39m \u001b[38;5;28;01mFalse\u001b[39;00m\n\u001b[0;32m    145\u001b[0m pythoncom\u001b[38;5;241m.\u001b[39mPumpWaitingMessages()\n\u001b[1;32m--> 146\u001b[0m time\u001b[38;5;241m.\u001b[39msleep(\u001b[38;5;241m0.05\u001b[39m)\n",
      "\u001b[1;31mKeyboardInterrupt\u001b[0m: "
     ]
    }
   ],
   "source": [
    "import pyttsx3\n",
    "import speech_recognition as sr\n",
    "\n",
    "engine = pyttsx3.init()\n",
    "\n",
    "def speak(text):\n",
    "    \"\"\"make the assistant speak.\"\"\"\n",
    "    engine.say(text)\n",
    "    engine.runAndWait()\n",
    "def listen():\n",
    "    recognizer = sr.Recognizer()\n",
    "    with sr.Microphone() as source:\n",
    "        speak(\"I am listening , pleace speak.\")\n",
    "        try:\n",
    "            audio = recognizer.listen(source)\n",
    "            command = recognizer.recognize_google(audio)\n",
    "            return command.lower()\n",
    "        except sr.UnknownValueError:\n",
    "            speak(\"Sorry, i did not catch that\")\n",
    "            return \"\"\n",
    "\n",
    "def main():\n",
    "    speak(\"Hello rohith ! iam your simple bot from mruh.\")\n",
    "    speak(\"how can i help you \")\n",
    "    \n",
    "    while True:\n",
    "        command = listen()\n",
    "        if \"hello\" in command:\n",
    "            speak(\"HI there ! welcom to mallareddy collage.\")\n",
    "        elif \"What's your name\" in command or \"what is your name\" in command:\n",
    "            speak(\"my name simple chat bot from  mallareddy college.\")\n",
    "        elif \"goodbye\" in command or \"bye\" in command:\n",
    "            speak(\"GoodBye! have a great day at mallareddy college.\")\n",
    "            break\n",
    "        else:\n",
    "            speak(\"I didn't understand that . please try again\" )\n",
    "\n",
    "if __name__ == \"__main__\":\n",
    "    main()"
   ]
  }
 ],
 "metadata": {
  "kernelspec": {
   "display_name": "Python 3 (ipykernel)",
   "language": "python",
   "name": "python3"
  },
  "language_info": {
   "codemirror_mode": {
    "name": "ipython",
    "version": 3
   },
   "file_extension": ".py",
   "mimetype": "text/x-python",
   "name": "python",
   "nbconvert_exporter": "python",
   "pygments_lexer": "ipython3",
   "version": "3.12.7"
  }
 },
 "nbformat": 4,
 "nbformat_minor": 5
}
