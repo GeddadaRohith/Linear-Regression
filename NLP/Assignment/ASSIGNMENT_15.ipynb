{
 "cells": [
  {
   "cell_type": "raw",
   "id": "2c2cfd18-b569-412f-bff4-87e9bd56ac51",
   "metadata": {},
   "source": [
    "Write a Python program to calculate the cosine similarity between two strings using the Scikit-learn library. You can use the 'TfidfVectorizer' class to transform the text into vectors.\n"
   ]
  },
  {
   "cell_type": "code",
   "execution_count": 1,
   "id": "f54c61cb-8822-4d3f-b86a-a72e5204e765",
   "metadata": {},
   "outputs": [],
   "source": [
    "from sklearn.feature_extraction.text import TfidfVectorizer\n",
    "from sklearn.metrics.pairwise import cosine_similarity\n"
   ]
  },
  {
   "cell_type": "code",
   "execution_count": 2,
   "id": "45081c64-9b47-42c7-95ea-61a9adfddac8",
   "metadata": {},
   "outputs": [],
   "source": [
    "string1 = \"Natural language processing is a subfield of artificial intelligence.\"\n",
    "string2 = \"Machine learning is a subset of artificial intelligence.\""
   ]
  },
  {
   "cell_type": "code",
   "execution_count": 3,
   "id": "8cbfa554-cd82-4ac4-a95b-8ada9fe7f872",
   "metadata": {},
   "outputs": [],
   "source": [
    "vectorizer = TfidfVectorizer()"
   ]
  },
  {
   "cell_type": "code",
   "execution_count": 4,
   "id": "ea9b2b0d-69fd-4b56-bb6c-5d2d8e388408",
   "metadata": {},
   "outputs": [],
   "source": [
    "tfidf_matrix = vectorizer.fit_transform([string1, string2])\n",
    "cosine_sim = cosine_similarity(tfidf_matrix[0:1], tfidf_matrix[1:2])"
   ]
  },
  {
   "cell_type": "code",
   "execution_count": 5,
   "id": "e72ba04e-9ab6-40db-8088-beb9462c5721",
   "metadata": {},
   "outputs": [
    {
     "name": "stdout",
     "output_type": "stream",
     "text": [
      "Cosine Similarity between the two strings: 0.368023208756115\n"
     ]
    }
   ],
   "source": [
    "print(f\"Cosine Similarity between the two strings: {cosine_sim[0][0]}\")"
   ]
  }
 ],
 "metadata": {
  "kernelspec": {
   "display_name": "Python 3 (ipykernel)",
   "language": "python",
   "name": "python3"
  },
  "language_info": {
   "codemirror_mode": {
    "name": "ipython",
    "version": 3
   },
   "file_extension": ".py",
   "mimetype": "text/x-python",
   "name": "python",
   "nbconvert_exporter": "python",
   "pygments_lexer": "ipython3",
   "version": "3.12.7"
  }
 },
 "nbformat": 4,
 "nbformat_minor": 5
}
