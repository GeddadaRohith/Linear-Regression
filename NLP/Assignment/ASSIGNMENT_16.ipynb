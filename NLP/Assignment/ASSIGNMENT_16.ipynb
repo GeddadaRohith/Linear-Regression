{
 "cells": [
  {
   "cell_type": "raw",
   "id": "3d1818c2-d590-4eda-9f0f-60aaff572aba",
   "metadata": {},
   "source": [
    "Write a Python program to perform Named Entity Recognition (NER) on a given text using SpaCy. Print the entities and their types.\n"
   ]
  },
  {
   "cell_type": "code",
   "execution_count": 1,
   "id": "5a471d4d-4308-492f-b2e3-0093cdf8b871",
   "metadata": {},
   "outputs": [],
   "source": [
    "import spacy"
   ]
  },
  {
   "cell_type": "code",
   "execution_count": 2,
   "id": "76fb2934-7c3c-4829-a5c9-6a3f407c1a08",
   "metadata": {},
   "outputs": [],
   "source": [
    "def perform_ner(text):\n",
    "    nlp = spacy.load(\"en_core_web_sm\")\n",
    "    doc = nlp(text)\n",
    "    print(f\"{'Entity':<30} {'Type':<15}\")\n",
    "    print(\"-\" * 45)\n",
    "    for entity in doc.ents:\n",
    "        print(f\"{entity.text:<30} {entity.label_}\")"
   ]
  },
  {
   "cell_type": "code",
   "execution_count": null,
   "id": "5597b10b-1f89-45da-b4d6-f093282c9cb9",
   "metadata": {},
   "outputs": [],
   "source": [
    "text=input(\"\")\n",
    "perform_ner(text)"
   ]
  },
  {
   "cell_type": "code",
   "execution_count": null,
   "id": "ed84c3da-d2d0-47d7-bc79-db2cb95453e9",
   "metadata": {},
   "outputs": [],
   "source": []
  }
 ],
 "metadata": {
  "kernelspec": {
   "display_name": "Python 3 (ipykernel)",
   "language": "python",
   "name": "python3"
  },
  "language_info": {
   "codemirror_mode": {
    "name": "ipython",
    "version": 3
   },
   "file_extension": ".py",
   "mimetype": "text/x-python",
   "name": "python",
   "nbconvert_exporter": "python",
   "pygments_lexer": "ipython3",
   "version": "3.12.7"
  }
 },
 "nbformat": 4,
 "nbformat_minor": 5
}
