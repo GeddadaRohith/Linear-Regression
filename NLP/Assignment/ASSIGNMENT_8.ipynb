{
 "cells": [
  {
   "cell_type": "raw",
   "id": "e2b28629-a2af-4885-9126-4720675c2aa6",
   "metadata": {},
   "source": [
    "Write a Python script that:\n",
    "1. Tokenizes a sample paragraph into words and sentences.\n"
   ]
  },
  {
   "cell_type": "code",
   "execution_count": 1,
   "id": "c9fae51a-53f3-4c84-a726-bf92ec448ce7",
   "metadata": {},
   "outputs": [],
   "source": [
    "from nltk.tokenize import word_tokenize , sent_tokenize"
   ]
  },
  {
   "cell_type": "code",
   "execution_count": 2,
   "id": "93272935-3510-494b-afd9-ee73b9a41e58",
   "metadata": {},
   "outputs": [
    {
     "name": "stdin",
     "output_type": "stream",
     "text": [
      "Enter a paragraph:  Natural Language Processing (NLP) is a field of artificial intelligence that focuses on the interaction between computers and human language. It combines linguistics and computer science to enable machines to understand, interpret, and generate human language in a meaningful way. NLP techniques are used in applications such as sentiment analysis, machine translation, speech recognition, and chatbots. Core tasks in NLP include tokenization, part-of-speech tagging, named entity recognition, lemmatization, and syntactic parsing. Advanced NLP leverages machine learning models, especially deep learning, to analyze large datasets and improve performance in tasks like text summarization and language generation. With growing advancements, NLP plays a pivotal role in enabling intuitive human-computer interactions across industries.\n"
     ]
    }
   ],
   "source": [
    "text = input(\"Enter a paragraph: \")\n",
    "word_token = word_tokenize(text)\n",
    "sent_token = sent_tokenize(text)"
   ]
  },
  {
   "cell_type": "code",
   "execution_count": null,
   "id": "0b093a7d-eda2-4a3b-a73e-59f381475bc7",
   "metadata": {},
   "outputs": [],
   "source": [
    "print(f\"Word Tokens : {word_token}\")"
   ]
  },
  {
   "cell_type": "code",
   "execution_count": null,
   "id": "0e47afd0-b3f6-412e-8e2a-6e9f17c4600c",
   "metadata": {},
   "outputs": [],
   "source": [
    "print(f\"Sentence Tokens : {sent_token}\")"
   ]
  }
 ],
 "metadata": {
  "kernelspec": {
   "display_name": "Python 3 (ipykernel)",
   "language": "python",
   "name": "python3"
  },
  "language_info": {
   "codemirror_mode": {
    "name": "ipython",
    "version": 3
   },
   "file_extension": ".py",
   "mimetype": "text/x-python",
   "name": "python",
   "nbconvert_exporter": "python",
   "pygments_lexer": "ipython3",
   "version": "3.12.7"
  }
 },
 "nbformat": 4,
 "nbformat_minor": 5
}
