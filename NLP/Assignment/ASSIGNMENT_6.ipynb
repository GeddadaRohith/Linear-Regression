{
 "cells": [
  {
   "cell_type": "raw",
   "id": "23a9937d-25eb-4b0f-933a-f4a6aad30a81",
   "metadata": {},
   "source": [
    "Write a Python program to using NLTK and Spacy\n",
    "Convert text to lowercase.\n",
    "Remove stopwords using NLTK"
   ]
  },
  {
   "cell_type": "markdown",
   "id": "6c01d764-fdb8-47b7-a604-eb979b245d4c",
   "metadata": {},
   "source": [
    "# USING NLTK"
   ]
  },
  {
   "cell_type": "code",
   "execution_count": 1,
   "id": "d5b4242f-0b78-442d-bc59-2ba385ad6d2b",
   "metadata": {},
   "outputs": [],
   "source": [
    "from nltk.tokenize import word_tokenize\n",
    "from nltk.corpus import stopwords "
   ]
  },
  {
   "cell_type": "code",
   "execution_count": 2,
   "id": "206f3b49-bbff-4cce-b384-d4e9a0d9199c",
   "metadata": {},
   "outputs": [
    {
     "name": "stdin",
     "output_type": "stream",
     "text": [
      "Enter the text:  Enter the text:  Hello! How are you doing today? NLTK is great for NLP.\n"
     ]
    },
    {
     "name": "stdout",
     "output_type": "stream",
     "text": [
      "Enter text : Hello ! today ? NLTK great NLP .\n"
     ]
    }
   ],
   "source": [
    "stop_words = set(stopwords.words(\"english\"))\n",
    "\n",
    "text = input(\"Enter the text: \")\n",
    "\n",
    "word_token = word_tokenize(text)\n",
    "\n",
    "filter_words = [w for w in word_token if w.lower() not in stop_words]\n",
    "\n",
    "print(\" \".join(filter_words))"
   ]
  },
  {
   "cell_type": "markdown",
   "id": "c2ecba0a-00b1-4e29-bbc9-a3afa0774c11",
   "metadata": {},
   "source": [
    "# USING Spacy"
   ]
  },
  {
   "cell_type": "code",
   "execution_count": 3,
   "id": "7999e42d-0597-43bf-8d9e-80d4828de676",
   "metadata": {},
   "outputs": [],
   "source": [
    "import spacy"
   ]
  },
  {
   "cell_type": "code",
   "execution_count": 4,
   "id": "d7f84ae4-87a6-45c6-ab94-f1f3441c4cfe",
   "metadata": {},
   "outputs": [],
   "source": [
    "nlp = spacy.load(\"en_core_web_sm\")"
   ]
  },
  {
   "cell_type": "code",
   "execution_count": 5,
   "id": "8c322551-b847-48a9-81f1-dead64aa98d8",
   "metadata": {},
   "outputs": [],
   "source": [
    "def process_text(text):\n",
    "    text = text.lower()\n",
    "    doc = nlp(text)\n",
    "    filtered_words = [token.text for token in doc if token.text not in stop_words and token.is_alpha]\n",
    "    return \" \".join(filtered_words)"
   ]
  },
  {
   "cell_type": "code",
   "execution_count": 6,
   "id": "c290bfba-bee1-477c-9a99-b51588205f9a",
   "metadata": {},
   "outputs": [
    {
     "name": "stdin",
     "output_type": "stream",
     "text": [
      "Enter the sentence: Enter the text:  Hello! How are you doing today? NLTK is great for NLP.\n"
     ]
    },
    {
     "data": {
      "text/plain": [
       "'enter text hello today nltk great nlp'"
      ]
     },
     "execution_count": 6,
     "metadata": {},
     "output_type": "execute_result"
    }
   ],
   "source": [
    "text=input(\"Enter the sentence:\")\n",
    "process_text(text)"
   ]
  }
 ],
 "metadata": {
  "kernelspec": {
   "display_name": "Python 3 (ipykernel)",
   "language": "python",
   "name": "python3"
  },
  "language_info": {
   "codemirror_mode": {
    "name": "ipython",
    "version": 3
   },
   "file_extension": ".py",
   "mimetype": "text/x-python",
   "name": "python",
   "nbconvert_exporter": "python",
   "pygments_lexer": "ipython3",
   "version": "3.12.7"
  }
 },
 "nbformat": 4,
 "nbformat_minor": 5
}
