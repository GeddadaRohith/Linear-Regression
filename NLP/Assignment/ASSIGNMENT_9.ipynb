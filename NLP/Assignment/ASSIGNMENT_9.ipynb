{
 "cells": [
  {
   "cell_type": "raw",
   "id": "71d0e573-e7be-421f-8919-d695cfae660f",
   "metadata": {},
   "source": [
    "Write a Python function to clean a given text by removing special characters and converting it to lowercase. Test it with the input: 'Hello, World! Welcome to NLP 101.'\n"
   ]
  },
  {
   "cell_type": "code",
   "execution_count": 1,
   "id": "3640b8ab-e7d4-4a00-9602-12f2a7697f0c",
   "metadata": {},
   "outputs": [],
   "source": [
    "import re\n",
    "def data_clean(text):\n",
    "    text = re.sub(r\"[({!@#$%^&*,.':;'})]\",\"\",text)\n",
    "    text = text.lower()\n",
    "    return text"
   ]
  },
  {
   "cell_type": "code",
   "execution_count": 2,
   "id": "9de35950-3f88-4f8c-9057-877970c91b28",
   "metadata": {},
   "outputs": [
    {
     "data": {
      "text/plain": [
       "' hello world welcome to nlp 101'"
      ]
     },
     "execution_count": 2,
     "metadata": {},
     "output_type": "execute_result"
    }
   ],
   "source": [
    "text = \" 'He)llo, Wo*rld}! W&elcome to N%LP 101.'\"\n",
    "data_clean(text)"
   ]
  }
 ],
 "metadata": {
  "kernelspec": {
   "display_name": "Python 3 (ipykernel)",
   "language": "python",
   "name": "python3"
  },
  "language_info": {
   "codemirror_mode": {
    "name": "ipython",
    "version": 3
   },
   "file_extension": ".py",
   "mimetype": "text/x-python",
   "name": "python",
   "nbconvert_exporter": "python",
   "pygments_lexer": "ipython3",
   "version": "3.12.7"
  }
 },
 "nbformat": 4,
 "nbformat_minor": 5
}
