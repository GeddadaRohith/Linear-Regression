{
 "cells": [
  {
   "cell_type": "markdown",
   "id": "8aab6a5f-546a-4063-9cd5-77a632148fe8",
   "metadata": {},
   "source": [
    "#### Rules for variables"
   ]
  },
  {
   "cell_type": "markdown",
   "id": "0a9aac08-eeeb-4300-b84c-6470bfd432c9",
   "metadata": {},
   "source": [
    "1. must start with letter or underscroe(_)\n",
    "2. Can contain letters ,underscores , numbers\n",
    "3. case-sensitive\n",
    "4. ccannot use python keywords"
   ]
  },
  {
   "cell_type": "markdown",
   "id": "449a0f0c-6086-4ccd-95f3-3376c9d7f529",
   "metadata": {},
   "source": [
    "#### What are python's variable naming conventios ?"
   ]
  },
  {
   "cell_type": "code",
   "execution_count": 3,
   "id": "31795e59-d422-4a17-87cf-d150a6d78e84",
   "metadata": {},
   "outputs": [
    {
     "name": "stdout",
     "output_type": "stream",
     "text": [
      "2 5 5 6\n"
     ]
    }
   ],
   "source": [
    "#valid\n",
    "num = 2\n",
    "num_2 = 5\n",
    "_num_3 =6\n",
    "Num_4 = 5\n",
    "\n",
    "#invalid\n",
    "# num k = 5\n",
    "# 2_num = 6\n",
    "# @num_5 = 5\n",
    "# data-set = 2 \n",
    "\n",
    "print(num,num_2,Num_4,_num_3)"
   ]
  },
  {
   "cell_type": "markdown",
   "id": "0f13cabf-e8b0-49de-8abe-a699e4b7cfc8",
   "metadata": {},
   "source": [
    "#### What happens when you assign a value to a varible that has the same name as a built-in function"
   ]
  },
  {
   "cell_type": "code",
   "execution_count": 10,
   "id": "4c6df1ba-a48f-47b4-924f-5266f71f7428",
   "metadata": {},
   "outputs": [
    {
     "ename": "SyntaxError",
     "evalue": "invalid syntax (3223206209.py, line 1)",
     "output_type": "error",
     "traceback": [
      "\u001b[1;36m  Cell \u001b[1;32mIn[10], line 1\u001b[1;36m\u001b[0m\n\u001b[1;33m    if = 5\u001b[0m\n\u001b[1;37m       ^\u001b[0m\n\u001b[1;31mSyntaxError\u001b[0m\u001b[1;31m:\u001b[0m invalid syntax\n"
     ]
    }
   ],
   "source": [
    "# Ans: Error\n",
    "if = 5\n",
    "for = 6\n",
    "in = 3"
   ]
  },
  {
   "cell_type": "markdown",
   "id": "7eaf3a55-ec8c-4521-8863-4943058fafda",
   "metadata": {},
   "source": [
    "#### Can variable in python hold different types of values at different times ? Show an example"
   ]
  },
  {
   "cell_type": "code",
   "execution_count": 12,
   "id": "baff26e9-c4c7-4920-9468-ee446d85beb7",
   "metadata": {},
   "outputs": [
    {
     "name": "stdout",
     "output_type": "stream",
     "text": [
      "4\n",
      "4.2\n",
      "APPLE\n",
      "True\n"
     ]
    }
   ],
   "source": [
    "# Yes\n",
    "a = 4\n",
    "print(a)\n",
    "\n",
    "a = 4.2\n",
    "print(a)\n",
    "\n",
    "a = \"APPLE\"\n",
    "print(a)\n",
    "\n",
    "a = True\n",
    "print(a)"
   ]
  },
  {
   "cell_type": "markdown",
   "id": "a1fa2827-cee6-4a0c-96c4-bf44babefced",
   "metadata": {},
   "source": [
    "#### What is the difference between local and global variable"
   ]
  },
  {
   "cell_type": "code",
   "execution_count": 19,
   "id": "59b30f2f-e660-4d1e-8cde-d07ed34b1bd7",
   "metadata": {},
   "outputs": [
    {
     "name": "stdout",
     "output_type": "stream",
     "text": [
      "0\n",
      "5\n",
      "10\n",
      "15\n"
     ]
    }
   ],
   "source": [
    "# local variable: can be used in few part of code ,example\n",
    "\n",
    "def Examle(num):\n",
    "    a = 5*(num)\n",
    "    print(a)\n",
    "    \n",
    "# print(a) error\n",
    "\n",
    "# global variable: can be used in any part of code ,example\n",
    "\n",
    "a = 5 \n",
    "for i in range(0,4):\n",
    "    x = i*a\n",
    "    print(x)"
   ]
  },
  {
   "cell_type": "code",
   "execution_count": 1,
   "id": "9aac10cb-44cb-4341-aed2-417091fe5e4e",
   "metadata": {},
   "outputs": [
    {
     "name": "stdin",
     "output_type": "stream",
     "text": [
      "Enter a number:  5\n"
     ]
    },
    {
     "name": "stdout",
     "output_type": "stream",
     "text": [
      "Multiplication is  10\n"
     ]
    }
   ],
   "source": [
    "my_int = int(input(\"Enter a number: \"))\n",
    "result = my_int * 2\n",
    "print(\"Multiplication is \",result)"
   ]
  },
  {
   "cell_type": "code",
   "execution_count": 4,
   "id": "a5d02ebb-73bd-4e64-83cd-0bcab2029736",
   "metadata": {},
   "outputs": [
    {
     "name": "stdout",
     "output_type": "stream",
     "text": [
      "[1, 'Hello', 3.4, True]\n"
     ]
    }
   ],
   "source": [
    "list_1 = [1,\"Hello\",3.4,True]\n",
    "print(list_1)"
   ]
  },
  {
   "cell_type": "code",
   "execution_count": 6,
   "id": "3e8017aa-2f7e-457d-8f3e-23e9fed4c1af",
   "metadata": {},
   "outputs": [
    {
     "data": {
      "text/plain": [
       "[1, 'Hello', 3.4, True, 'World', 'World']"
      ]
     },
     "execution_count": 6,
     "metadata": {},
     "output_type": "execute_result"
    }
   ],
   "source": [
    "list_1.append(\"World\")\n",
    "list_1"
   ]
  },
  {
   "cell_type": "code",
   "execution_count": 7,
   "id": "914414ab-dcf8-4670-a063-a79f83173f49",
   "metadata": {},
   "outputs": [
    {
     "data": {
      "text/plain": [
       "[1, 'Hello', True, 'World', 'World']"
      ]
     },
     "execution_count": 7,
     "metadata": {},
     "output_type": "execute_result"
    }
   ],
   "source": [
    "list_1.remove(3.4)\n",
    "list_1"
   ]
  },
  {
   "cell_type": "code",
   "execution_count": 9,
   "id": "ff6a04bd-e59b-4922-8965-fc3193b18394",
   "metadata": {},
   "outputs": [
    {
     "data": {
      "text/plain": [
       "(1, 'Apple', 3.14, False)"
      ]
     },
     "execution_count": 9,
     "metadata": {},
     "output_type": "execute_result"
    }
   ],
   "source": [
    "tuple_1 = (1,\"Apple\",3.14,False)\n",
    "tuple_1"
   ]
  },
  {
   "cell_type": "code",
   "execution_count": 10,
   "id": "274d3144-f6d1-465b-841a-048d1900ca62",
   "metadata": {},
   "outputs": [
    {
     "data": {
      "text/plain": [
       "'Apple'"
      ]
     },
     "execution_count": 10,
     "metadata": {},
     "output_type": "execute_result"
    }
   ],
   "source": [
    "tuple_1[1]"
   ]
  },
  {
   "cell_type": "code",
   "execution_count": 19,
   "id": "52cb6359-859e-4436-b6c9-6134b85465ba",
   "metadata": {},
   "outputs": [
    {
     "data": {
      "text/plain": [
       "(False,)"
      ]
     },
     "execution_count": 19,
     "metadata": {},
     "output_type": "execute_result"
    }
   ],
   "source": [
    "tuple_1[-1:]"
   ]
  },
  {
   "cell_type": "code",
   "execution_count": 23,
   "id": "9dc326d8-4a90-4a38-9044-59edf61120e9",
   "metadata": {},
   "outputs": [
    {
     "data": {
      "text/plain": [
       "'ANT'"
      ]
     },
     "execution_count": 23,
     "metadata": {},
     "output_type": "execute_result"
    }
   ],
   "source": [
    "set_1 = {1:\"apple\",2:\"Banana\",3:\"cherry\"}\n",
    "set_2 = {\"A\":\"ANT\",\"B\":\"BAT\",\"C\":\"CAT\"}\n",
    "set_2[\"A\"]"
   ]
  },
  {
   "cell_type": "code",
   "execution_count": 26,
   "id": "470a48a2-9afc-4003-9eab-c8b7e71179a6",
   "metadata": {},
   "outputs": [
    {
     "data": {
      "text/plain": [
       "{0, 1, 2, 3, 4, 5}"
      ]
     },
     "execution_count": 26,
     "metadata": {},
     "output_type": "execute_result"
    }
   ],
   "source": [
    "set_3={1,2,3,4,5}\n",
    "set_3.add(0)\n",
    "set_3"
   ]
  },
  {
   "cell_type": "code",
   "execution_count": null,
   "id": "7a0fe1e4-bff0-4568-93fe-e199c5dfa32b",
   "metadata": {},
   "outputs": [],
   "source": []
  }
 ],
 "metadata": {
  "kernelspec": {
   "display_name": "Python 3 (ipykernel)",
   "language": "python",
   "name": "python3"
  },
  "language_info": {
   "codemirror_mode": {
    "name": "ipython",
    "version": 3
   },
   "file_extension": ".py",
   "mimetype": "text/x-python",
   "name": "python",
   "nbconvert_exporter": "python",
   "pygments_lexer": "ipython3",
   "version": "3.12.7"
  }
 },
 "nbformat": 4,
 "nbformat_minor": 5
}
