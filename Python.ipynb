{
 "cells": [
  {
   "cell_type": "markdown",
   "id": "8aab6a5f-546a-4063-9cd5-77a632148fe8",
   "metadata": {},
   "source": [
    "#### Rules for variables"
   ]
  },
  {
   "cell_type": "markdown",
   "id": "0a9aac08-eeeb-4300-b84c-6470bfd432c9",
   "metadata": {},
   "source": [
    "1. must start with letter or underscroe(_)\n",
    "2. Can contain letters ,underscores , numbers\n",
    "3. case-sensitive\n",
    "4. ccannot use python keywords"
   ]
  },
  {
   "cell_type": "markdown",
   "id": "449a0f0c-6086-4ccd-95f3-3376c9d7f529",
   "metadata": {},
   "source": [
    "#### What are python's variable naming conventios ?"
   ]
  },
  {
   "cell_type": "code",
   "execution_count": 3,
   "id": "31795e59-d422-4a17-87cf-d150a6d78e84",
   "metadata": {},
   "outputs": [
    {
     "name": "stdout",
     "output_type": "stream",
     "text": [
      "2 5 5 6\n"
     ]
    }
   ],
   "source": [
    "#valid\n",
    "num = 2\n",
    "num_2 = 5\n",
    "_num_3 =6\n",
    "Num_4 = 5\n",
    "\n",
    "#invalid\n",
    "# num k = 5\n",
    "# 2_num = 6\n",
    "# @num_5 = 5\n",
    "# data-set = 2 \n",
    "\n",
    "print(num,num_2,Num_4,_num_3)"
   ]
  },
  {
   "cell_type": "markdown",
   "id": "0f13cabf-e8b0-49de-8abe-a699e4b7cfc8",
   "metadata": {},
   "source": [
    "#### What happens when you assign a value to a varible that has the same name as a built-in function"
   ]
  },
  {
   "cell_type": "code",
   "execution_count": 10,
   "id": "4c6df1ba-a48f-47b4-924f-5266f71f7428",
   "metadata": {},
   "outputs": [
    {
     "ename": "SyntaxError",
     "evalue": "invalid syntax (3223206209.py, line 1)",
     "output_type": "error",
     "traceback": [
      "\u001b[1;36m  Cell \u001b[1;32mIn[10], line 1\u001b[1;36m\u001b[0m\n\u001b[1;33m    if = 5\u001b[0m\n\u001b[1;37m       ^\u001b[0m\n\u001b[1;31mSyntaxError\u001b[0m\u001b[1;31m:\u001b[0m invalid syntax\n"
     ]
    }
   ],
   "source": [
    "# Ans: Error\n",
    "if = 5\n",
    "for = 6\n",
    "in = 3"
   ]
  },
  {
   "cell_type": "markdown",
   "id": "7eaf3a55-ec8c-4521-8863-4943058fafda",
   "metadata": {},
   "source": [
    "#### Can variable in python hold different types of values at different times ? Show an example"
   ]
  },
  {
   "cell_type": "code",
   "execution_count": 12,
   "id": "baff26e9-c4c7-4920-9468-ee446d85beb7",
   "metadata": {},
   "outputs": [
    {
     "name": "stdout",
     "output_type": "stream",
     "text": [
      "4\n",
      "4.2\n",
      "APPLE\n",
      "True\n"
     ]
    }
   ],
   "source": [
    "# Yes\n",
    "a = 4\n",
    "print(a)\n",
    "\n",
    "a = 4.2\n",
    "print(a)\n",
    "\n",
    "a = \"APPLE\"\n",
    "print(a)\n",
    "\n",
    "a = True\n",
    "print(a)"
   ]
  },
  {
   "cell_type": "markdown",
   "id": "a1fa2827-cee6-4a0c-96c4-bf44babefced",
   "metadata": {},
   "source": [
    "#### What is the difference between local and global variable"
   ]
  },
  {
   "cell_type": "code",
   "execution_count": 19,
   "id": "59b30f2f-e660-4d1e-8cde-d07ed34b1bd7",
   "metadata": {},
   "outputs": [
    {
     "name": "stdout",
     "output_type": "stream",
     "text": [
      "0\n",
      "5\n",
      "10\n",
      "15\n"
     ]
    }
   ],
   "source": [
    "# local variable: can be used in few part of code ,example\n",
    "\n",
    "def Examle(num):\n",
    "    a = 5*(num)\n",
    "    print(a)\n",
    "    \n",
    "# print(a) error\n",
    "\n",
    "# global variable: can be used in any part of code ,example\n",
    "\n",
    "a = 5 \n",
    "for i in range(0,4):\n",
    "    x = i*a\n",
    "    print(x)"
   ]
  },
  {
   "cell_type": "code",
   "execution_count": 23,
   "id": "83f5aaef-0dad-46d8-9edd-b15f637419a6",
   "metadata": {},
   "outputs": [
    {
     "data": {
      "text/plain": [
       "'del'"
      ]
     },
     "execution_count": 23,
     "metadata": {},
     "output_type": "execute_result"
    }
   ],
   "source": [
    "import keyword\n",
    "ke=keyword.kwlist\n",
    "ke[12]"
   ]
  },
  {
   "cell_type": "code",
   "execution_count": 25,
   "id": "174ff390-7c28-4166-9e76-e6915dd3b717",
   "metadata": {},
   "outputs": [
    {
     "name": "stdin",
     "output_type": "stream",
     "text": [
      "Enter a word:  int\n"
     ]
    },
    {
     "ename": "TypeError",
     "evalue": "'int' object is not callable",
     "output_type": "error",
     "traceback": [
      "\u001b[1;31m---------------------------------------------------------------------------\u001b[0m",
      "\u001b[1;31mTypeError\u001b[0m                                 Traceback (most recent call last)",
      "Cell \u001b[1;32mIn[25], line 6\u001b[0m\n\u001b[0;32m      4\u001b[0m      \u001b[38;5;28mprint\u001b[39m(a,\u001b[38;5;124m\"\u001b[39m\u001b[38;5;124mis a keyword\u001b[39m\u001b[38;5;124m\"\u001b[39m)\n\u001b[0;32m      5\u001b[0m \u001b[38;5;28;01melse\u001b[39;00m:\n\u001b[1;32m----> 6\u001b[0m     \u001b[38;5;28mprint\u001b[39m(a,\u001b[38;5;124m\"\u001b[39m\u001b[38;5;124mis not a keyword\u001b[39m\u001b[38;5;124m\"\u001b[39m)\n",
      "\u001b[1;31mTypeError\u001b[0m: 'int' object is not callable"
     ]
    }
   ],
   "source": [
    "a=str(input(\"Enter a word: \"))\n",
    "for i in range(len(ke)):\n",
    "    if a == ke[i]:\n",
    "         print(a,\"is a keyword\")\n",
    "    else:\n",
    "        print(a,\"is not a keyword\")"
   ]
  },
  {
   "cell_type": "code",
   "execution_count": 7,
   "id": "ce6edbeb-6ec0-431b-b5f0-6f4c1f2dbf48",
   "metadata": {},
   "outputs": [
    {
     "data": {
      "text/plain": [
       "[0, 1, 2, 3, 4]"
      ]
     },
     "execution_count": 7,
     "metadata": {},
     "output_type": "execute_result"
    }
   ],
   "source": [
    "list_1 = [i for i in range(0,5)]\n",
    "list_1"
   ]
  },
  {
   "cell_type": "code",
   "execution_count": null,
   "id": "f16b95c0-557d-46c4-bbff-b5c6aa7e3eb0",
   "metadata": {},
   "outputs": [],
   "source": []
  }
 ],
 "metadata": {
  "kernelspec": {
   "display_name": "Python 3 (ipykernel)",
   "language": "python",
   "name": "python3"
  },
  "language_info": {
   "codemirror_mode": {
    "name": "ipython",
    "version": 3
   },
   "file_extension": ".py",
   "mimetype": "text/x-python",
   "name": "python",
   "nbconvert_exporter": "python",
   "pygments_lexer": "ipython3",
   "version": "3.12.7"
  }
 },
 "nbformat": 4,
 "nbformat_minor": 5
}
