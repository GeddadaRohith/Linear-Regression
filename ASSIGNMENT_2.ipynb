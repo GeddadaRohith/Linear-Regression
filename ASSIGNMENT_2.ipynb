{
 "cells": [
  {
   "cell_type": "markdown",
   "id": "41a4557c-7137-4cd7-8404-b14f459f7fb7",
   "metadata": {},
   "source": [
    "# list"
   ]
  },
  {
   "cell_type": "code",
   "execution_count": 42,
   "id": "34f7b089-45ad-410b-8d8c-08ad708b06de",
   "metadata": {},
   "outputs": [
    {
     "name": "stdout",
     "output_type": "stream",
     "text": [
      "[10, 20, 30, 40, 50]\n"
     ]
    }
   ],
   "source": [
    "list_1 = [10,20,30,40,50]\n",
    "list_2 = [90,80,70,60,50]\n",
    "print(list_1)"
   ]
  },
  {
   "cell_type": "code",
   "execution_count": 33,
   "id": "ad479f1e-13db-4a89-b462-aae7a7fb8d75",
   "metadata": {},
   "outputs": [
    {
     "name": "stdout",
     "output_type": "stream",
     "text": [
      "[1, 'Hello', 3.4, True]\n"
     ]
    }
   ],
   "source": [
    "list_3 = [1,\"Hello\",3.4,True]\n",
    "print(list_3)"
   ]
  },
  {
   "cell_type": "markdown",
   "id": "10b73cf5-9ce6-4f1e-ab09-6f39fd0190ac",
   "metadata": {},
   "source": [
    "#### Index"
   ]
  },
  {
   "cell_type": "code",
   "execution_count": 2,
   "id": "5b88f2a2-5f91-483d-a2c3-89423ed84761",
   "metadata": {},
   "outputs": [
    {
     "data": {
      "text/plain": [
       "30"
      ]
     },
     "execution_count": 2,
     "metadata": {},
     "output_type": "execute_result"
    }
   ],
   "source": [
    "list_1[2]"
   ]
  },
  {
   "cell_type": "markdown",
   "id": "d3d44da0-de27-410d-96da-6a1b5c972b16",
   "metadata": {},
   "source": [
    "#### operations"
   ]
  },
  {
   "cell_type": "code",
   "execution_count": 10,
   "id": "774d6677-7c06-4686-997a-9da9b7c3fd27",
   "metadata": {},
   "outputs": [
    {
     "name": "stdout",
     "output_type": "stream",
     "text": [
      "Addition : [10, 20, 30, 40, 50, 90, 80, 70, 60, 50]\n"
     ]
    }
   ],
   "source": [
    "add = list_1 + list_2\n",
    "print(f\"Addition : {add}\")"
   ]
  },
  {
   "cell_type": "markdown",
   "id": "8d85172b-d947-4b9c-9125-e8e92fd8a3e6",
   "metadata": {},
   "source": [
    "#### Slicing "
   ]
  },
  {
   "cell_type": "code",
   "execution_count": 20,
   "id": "38c98b4e-3dd4-48b5-b658-95bbe2992bc7",
   "metadata": {},
   "outputs": [
    {
     "data": {
      "text/plain": [
       "[20, 30, 40]"
      ]
     },
     "execution_count": 20,
     "metadata": {},
     "output_type": "execute_result"
    }
   ],
   "source": [
    "list_1[1:4] #prints form 1st index to 3rd"
   ]
  },
  {
   "cell_type": "code",
   "execution_count": 15,
   "id": "a747a6a9-a238-4d38-8008-016474c6ef85",
   "metadata": {},
   "outputs": [
    {
     "data": {
      "text/plain": [
       "[20, 30, 40, 50]"
      ]
     },
     "execution_count": 15,
     "metadata": {},
     "output_type": "execute_result"
    }
   ],
   "source": [
    "list_1[1:] #prints form 1st index to last index"
   ]
  },
  {
   "cell_type": "code",
   "execution_count": 23,
   "id": "feef8960-8e92-48b0-80ca-b94c5bfc006c",
   "metadata": {},
   "outputs": [
    {
     "data": {
      "text/plain": [
       "[10, 20, 30, 40]"
      ]
     },
     "execution_count": 23,
     "metadata": {},
     "output_type": "execute_result"
    }
   ],
   "source": [
    "list_1[:4] #prints form starting index to 4th index"
   ]
  },
  {
   "cell_type": "code",
   "execution_count": 24,
   "id": "cea47f3e-32d3-4995-8cc2-e97041b70fef",
   "metadata": {},
   "outputs": [
    {
     "data": {
      "text/plain": [
       "[10, 30, 50]"
      ]
     },
     "execution_count": 24,
     "metadata": {},
     "output_type": "execute_result"
    }
   ],
   "source": [
    "list_1[0::2] #prints form 0th index to end elements and by ignoring a element between"
   ]
  },
  {
   "cell_type": "code",
   "execution_count": 25,
   "id": "a7a5cef7-d5fa-46dc-99bb-4a3cd64bccea",
   "metadata": {},
   "outputs": [
    {
     "data": {
      "text/plain": [
       "[20, 40]"
      ]
     },
     "execution_count": 25,
     "metadata": {},
     "output_type": "execute_result"
    }
   ],
   "source": [
    "list_1[1::2] #prints form 1st index to end elements and by ignoring a element between"
   ]
  },
  {
   "cell_type": "code",
   "execution_count": 27,
   "id": "ffd04454-b1e2-4bef-95ad-9654335e1db9",
   "metadata": {},
   "outputs": [
    {
     "data": {
      "text/plain": [
       "[50, 40, 30, 20, 10]"
      ]
     },
     "execution_count": 27,
     "metadata": {},
     "output_type": "execute_result"
    }
   ],
   "source": [
    "list_1[::-1] #prints form starting index to end elements , in reverse"
   ]
  },
  {
   "cell_type": "markdown",
   "id": "8a1a1433-e9e6-4abd-9a88-18c7ddb58619",
   "metadata": {},
   "source": [
    "#### Append"
   ]
  },
  {
   "cell_type": "code",
   "execution_count": 43,
   "id": "fba5dea9-a7d4-4724-a6a1-7053c471e36b",
   "metadata": {},
   "outputs": [
    {
     "name": "stdout",
     "output_type": "stream",
     "text": [
      "[10, 20, 30, 40, 50, 5]\n"
     ]
    }
   ],
   "source": [
    "list_1.append(5)\n",
    "print(list_1)"
   ]
  },
  {
   "cell_type": "markdown",
   "id": "65bfd6a5-1521-4662-8152-b8ce0277e188",
   "metadata": {},
   "source": [
    "#### remove"
   ]
  },
  {
   "cell_type": "code",
   "execution_count": 44,
   "id": "0ab35a9d-b33f-472d-9398-5aeb09481514",
   "metadata": {},
   "outputs": [
    {
     "name": "stdout",
     "output_type": "stream",
     "text": [
      "[10, 20, 30, 50, 5]\n"
     ]
    }
   ],
   "source": [
    "list_1.remove(40)\n",
    "print(list_1)"
   ]
  },
  {
   "cell_type": "markdown",
   "id": "6575301c-74a3-41da-8b03-6fa49e753c8b",
   "metadata": {},
   "source": [
    "# TUPLE"
   ]
  },
  {
   "cell_type": "code",
   "execution_count": 45,
   "id": "07cbb150-33fb-4b70-9a56-705678147bcb",
   "metadata": {},
   "outputs": [
    {
     "data": {
      "text/plain": [
       "(1, 'Apple', 3.14, False)"
      ]
     },
     "execution_count": 45,
     "metadata": {},
     "output_type": "execute_result"
    }
   ],
   "source": [
    "tuple_1 = (1,\"Apple\",3.14,False)\n",
    "tuple_1"
   ]
  },
  {
   "cell_type": "code",
   "execution_count": 46,
   "id": "e89692cd-d23b-410e-86de-bf30ec7c99a9",
   "metadata": {},
   "outputs": [
    {
     "data": {
      "text/plain": [
       "'Apple'"
      ]
     },
     "execution_count": 46,
     "metadata": {},
     "output_type": "execute_result"
    }
   ],
   "source": [
    "tuple_1[1]"
   ]
  },
  {
   "cell_type": "code",
   "execution_count": 47,
   "id": "0dce425e-391b-4cb6-8bb5-c8faecf165f8",
   "metadata": {},
   "outputs": [
    {
     "data": {
      "text/plain": [
       "False"
      ]
     },
     "execution_count": 47,
     "metadata": {},
     "output_type": "execute_result"
    }
   ],
   "source": [
    "tuple_1[-1]"
   ]
  },
  {
   "cell_type": "markdown",
   "id": "3de93e7a-8243-4e77-8634-55d87bb8e6d8",
   "metadata": {},
   "source": [
    "# Sets"
   ]
  },
  {
   "cell_type": "code",
   "execution_count": 49,
   "id": "c944cf17-804b-4b96-a0be-4897f65be865",
   "metadata": {},
   "outputs": [
    {
     "data": {
      "text/plain": [
       "{'A': 'ANT', 'B': 'BAT', 'C': 'CAT'}"
      ]
     },
     "execution_count": 49,
     "metadata": {},
     "output_type": "execute_result"
    }
   ],
   "source": [
    "set_1 = {1:\"apple\",2:\"Banana\",3:\"cherry\"}\n",
    "set_2 = {\"A\":\"ANT\",\"B\":\"BAT\",\"C\":\"CAT\"}\n",
    "set_2"
   ]
  },
  {
   "cell_type": "code",
   "execution_count": 50,
   "id": "0b6a3ab7-b2f3-4e6e-9fbc-e3484ce06993",
   "metadata": {},
   "outputs": [
    {
     "data": {
      "text/plain": [
       "'ANT'"
      ]
     },
     "execution_count": 50,
     "metadata": {},
     "output_type": "execute_result"
    }
   ],
   "source": [
    "set_1 = {1:\"apple\",2:\"Banana\",3:\"cherry\"}\n",
    "set_2 = {\"A\":\"ANT\",\"B\":\"BAT\",\"C\":\"CAT\"}\n",
    "set_2[\"A\"]"
   ]
  },
  {
   "cell_type": "code",
   "execution_count": 51,
   "id": "29d732d8-3f36-4e51-b57c-4a8791543ac0",
   "metadata": {},
   "outputs": [
    {
     "data": {
      "text/plain": [
       "{0, 1, 2, 3, 4, 5}"
      ]
     },
     "execution_count": 51,
     "metadata": {},
     "output_type": "execute_result"
    }
   ],
   "source": [
    "set_3={1,2,3,4,5}\n",
    "set_3.add(0)\n",
    "set_3"
   ]
  },
  {
   "cell_type": "code",
   "execution_count": null,
   "id": "653e6342-7fc4-40b0-8e74-c47250ffcaab",
   "metadata": {},
   "outputs": [],
   "source": []
  }
 ],
 "metadata": {
  "kernelspec": {
   "display_name": "Python 3 (ipykernel)",
   "language": "python",
   "name": "python3"
  },
  "language_info": {
   "codemirror_mode": {
    "name": "ipython",
    "version": 3
   },
   "file_extension": ".py",
   "mimetype": "text/x-python",
   "name": "python",
   "nbconvert_exporter": "python",
   "pygments_lexer": "ipython3",
   "version": "3.12.7"
  }
 },
 "nbformat": 4,
 "nbformat_minor": 5
}
