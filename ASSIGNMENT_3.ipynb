{
 "cells": [
  {
   "cell_type": "raw",
   "id": "10b79017-1313-42d9-bc97-df0babc82911",
   "metadata": {},
   "source": [
    "Write a Python program that takes a student's marks in three subjects as input.\n",
    "If the average is greater than or equal to 90, print \"Grade: A\".\n",
    "If the average is between 80 and 89, print \"Grade: B\".\n",
    "If the average is between 70 and 79, print \"Grade: C\".\n",
    "Otherwise, print \"Grade: Fail\"."
   ]
  },
  {
   "cell_type": "code",
   "execution_count": 6,
   "id": "d2daa51d-88ce-455d-8a97-09c9252e5cfd",
   "metadata": {},
   "outputs": [
    {
     "name": "stdin",
     "output_type": "stream",
     "text": [
      "Enter Number Of Students:  2\n",
      "Enter Number Of Subjects:  3\n"
     ]
    },
    {
     "name": "stdout",
     "output_type": "stream",
     "text": [
      "Enter the Student_1 marks :\n"
     ]
    },
    {
     "name": "stdin",
     "output_type": "stream",
     "text": [
      "Enter subject_1 marks 95\n",
      "Enter subject_2 marks 68\n",
      "Enter subject_3 marks 69\n"
     ]
    },
    {
     "name": "stdout",
     "output_type": "stream",
     "text": [
      "Student_0 got Grade: C\n",
      "\n",
      "\n",
      "Enter the Student_2 marks :\n"
     ]
    },
    {
     "name": "stdin",
     "output_type": "stream",
     "text": [
      "Enter subject_1 marks 95\n",
      "Enter subject_2 marks 98\n",
      "Enter subject_3 marks 69\n"
     ]
    },
    {
     "name": "stdout",
     "output_type": "stream",
     "text": [
      "Student_1 got Grade: B\n",
      "\n",
      "\n"
     ]
    }
   ],
   "source": [
    "no_std = int(input(\"Enter Number Of Students: \"))\n",
    "no_sub = int(input(\"Enter Number Of Subjects: \"))\n",
    "for i in range(no_std):\n",
    "    print(f\"Enter the Student_{i+1} marks :\") \n",
    "    marks = []\n",
    "    for j in range(no_sub):\n",
    "        sub_ = int(input(f\"Enter subject_{j+1} marks\"))\n",
    "        marks.append(sub_)\n",
    "    store = []\n",
    "    avg = sum(marks)/len(marks)\n",
    "    marks.clear()\n",
    "    if avg >= 90:\n",
    "        print(f\"Student_{i+1} got Grade: A\")\n",
    "    elif 80 < avg < 89:\n",
    "        print(f\"Student_{i+1} got Grade: B\")\n",
    "    elif 70 < avg < 79:\n",
    "        print(f\"Student_{i+1} got Grade: C\")\n",
    "    else:\n",
    "        print(f\"Student_{i+1} got Grade: Fail\")\n",
    "    print(\"\\n\")"
   ]
  },
  {
   "cell_type": "code",
   "execution_count": null,
   "id": "810ea519-97df-4c14-8781-d94b73f05df3",
   "metadata": {},
   "outputs": [],
   "source": [
    "len"
   ]
  }
 ],
 "metadata": {
  "kernelspec": {
   "display_name": "Python 3 (ipykernel)",
   "language": "python",
   "name": "python3"
  },
  "language_info": {
   "codemirror_mode": {
    "name": "ipython",
    "version": 3
   },
   "file_extension": ".py",
   "mimetype": "text/x-python",
   "name": "python",
   "nbconvert_exporter": "python",
   "pygments_lexer": "ipython3",
   "version": "3.12.7"
  }
 },
 "nbformat": 4,
 "nbformat_minor": 5
}
